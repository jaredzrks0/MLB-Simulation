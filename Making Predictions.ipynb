{
 "cells": [
  {
   "cell_type": "code",
   "execution_count": 56,
   "id": "4d5f12a7-726f-4710-8676-91ef45f39934",
   "metadata": {},
   "outputs": [],
   "source": [
    "import pandas as pd\n",
    "import numpy as np\n",
    "import pickle as pkl\n",
    "import random\n",
    "import time\n",
    "import math\n",
    "import pybaseball\n",
    "import sklearn\n",
    "from sklearn.metrics import log_loss\n",
    "from sklearn.preprocessing import MultiLabelBinarizer\n",
    "from pybaseball import playerid_lookup, playerid_reverse_lookup\n",
    "import warnings\n",
    "import matplotlib.pyplot as plt\n",
    "from IPython.display import clear_output\n",
    "\n",
    "hand_combos = [\"RR\", \"RL\", \"LR\", \"LL\"]\n",
    "training_years = [\"2012\", \"2013\", \"2014\"]\n",
    "\n",
    "plays = [\"out\", \"strikeout\", \"walk\", \"single\", \"double\", \"triple\", \"home_run\"]\n",
    "\n",
    "warnings.simplefilter(\"ignore\")"
   ]
  },
  {
   "cell_type": "markdown",
   "id": "24633c10-8090-43b9-b60f-3f0653425617",
   "metadata": {},
   "source": [
    "### Odds Functions"
   ]
  },
  {
   "cell_type": "code",
   "execution_count": 57,
   "id": "72a3e000-b62f-40c9-a2ce-9f2be6368c56",
   "metadata": {},
   "outputs": [],
   "source": [
    "def log5 (pB, pP, pL):\n",
    "    \"\"\" Given the probability of a PA outcome for the pitcher, the batter, and the overall league, calculate the\n",
    "    probability in that given at bat using the log5 equation. NOTE: DO NOT USE RIGHT NOW\"\"\" \n",
    "    one = (pB*pP)/pL\n",
    "    two = ((1-pB)*(1-pP))/(1-pL)\n",
    "    \n",
    "    return one/(one + two)\n",
    "\n",
    "\n",
    "def morey_z(pB, pP, pL):\n",
    "    \"\"\" Given the probability of a PA outcome for the pitcher, the batter, and the overall league, calculate the\n",
    "    probability in that given at bat using the Morey Z equation\"\"\"\n",
    "    one = (pB-pL)/np.sqrt(pL*(1-pL))\n",
    "    two = (pP-pL)/np.sqrt(pL*(1-pL))\n",
    "    three = np.sqrt(pL*(1-pL))\n",
    "    return ((one + two)/np.sqrt(2) * three) +pL\n",
    "\n",
    "def ab_play_percentages(batting_percentages, pitching_percentages, league_percentages, pitbat_combo, function):\n",
    "    \"\"\" Given a list of probabilities for all PA outcomes for the batter, the pitcher, and the league, along with\n",
    "    the pitbat combo, and the desired probability funtion, return a list of the probabilities for all PA outcomes \n",
    "    for the specific PA\"\"\"\n",
    "    \n",
    "    ab_percentages = {}\n",
    "    \n",
    "    # Get the specific percentages for each play type\n",
    "    for play in plays:\n",
    "        batting_percent = batting_percentages[\"b_\" + play]\n",
    "        pitching_percent = pitching_percentages[\"p_\" + play]\n",
    "        league_percent = league_percentages[pitbat_combo][play]\n",
    "        \n",
    "        # Ensure we are using one of the two acceptable prediction functions\n",
    "        if function not in [\"morey z\", \"Morey Z\", \"log5\", \"Log5\"]:\n",
    "            while funtion not in [\"morey z\", \"Morey Z\", \"log5\", \"Log5\"]:\n",
    "                function = input(\"Acceptable Functions are Morey Z and Log5. Please input one.\")\n",
    "        \n",
    "        # Calculate the predicted percentage for the specific play for the PA\n",
    "        if function == \"morey z\" or function == \"Morey Z\":\n",
    "            expected_percent = max(morey_z(batting_percent, pitching_percent, league_percent), 0.000001)\n",
    "        else:\n",
    "            expected_percent = log5(batting_percent, pitching_percent, league_percent)\n",
    "    \n",
    "        # Insert the predicted percentage for the play type into our dictionary for delivery\n",
    "        ab_percentages[play] = expected_percent\n",
    "        \n",
    "        # Get rid of negative and zero numbers and repercenage slightly if numbers are reset\n",
    "        ab_percentages = {key: value/sum(list(ab_percentages.values())) for key, value in ab_percentages.items()}\n",
    "    \n",
    "    return ab_percentages\n",
    "\n",
    "# League Average Guesser\n",
    "def average_guesser(batting_percentages, pitching_percentages, league_percentages, pitbat_combo):\n",
    "    ab_percentages = {}\n",
    "    \n",
    "    for play in plays:\n",
    "        league_percent = league_percentages[pitbat_combo][play]\n",
    "        ab_percentages[play] = league_percent\n",
    "        \n",
    "    ab_percentages = {key: value/sum(list(ab_percentages.values())) for key, value in ab_percentages.items()}\n",
    "    \n",
    "    return ab_percentages  \n",
    "        "
   ]
  },
  {
   "cell_type": "code",
   "execution_count": 63,
   "id": "5c6311d7-843b-480c-acfd-aad8dc4d57d0",
   "metadata": {},
   "outputs": [],
   "source": [
    "def log_loss(probabilities, actuals):\n",
    "    \"\"\" Given a list of probabilities and acuals for a series of instances, calculate and return the average log loss\"\"\"\n",
    "    log_loss = 0\n",
    "    yhat_probabilities = []\n",
    "    for instance in range(len(probabilities)):\n",
    "        yhat_probabilities.append(max([n for n in np.array(probabilities.iloc[instance])*np.array(actuals.iloc[instance])]))\n",
    "    log_loss -= sum([np.log10(x)for x in yhat_probabilities])\n",
    "\n",
    "    return yhat_probabilities\n",
    "    return log_loss/len(probabilities)"
   ]
  },
  {
   "cell_type": "code",
   "execution_count": 59,
   "id": "47a51353-f359-4999-93fc-29f0ed08da17",
   "metadata": {},
   "outputs": [],
   "source": [
    "odds_dataset = pkl.load(open(\"odds_functions_data_set\", \"rb\"))\n",
    "odds_dataset = pkl.load(open(\"odds_functions_dataset_without_yearbreaks.pkl\", \"rb\"))[\"batting_stats\"]\n",
    "\n",
    "league_averages = pkl.load(open(\"league_averages.pkl\", \"rb\"))"
   ]
  },
  {
   "cell_type": "markdown",
   "id": "0e791d36-33bd-433f-9513-efb3467424a4",
   "metadata": {},
   "source": [
    "## Make Predictions on Neutral Training Data"
   ]
  },
  {
   "cell_type": "code",
   "execution_count": 60,
   "id": "beadfdbf-f7f2-4b14-8a84-d143898d0860",
   "metadata": {},
   "outputs": [],
   "source": [
    "odds_dataset[\"morey_prediction\"] = odds_dataset.apply(lambda x: ab_play_percentages(x[[\"b_\" + play for play in plays]], x[[\"p_\" + play for play in plays]], league_averages, x.pitbat, \"morey z\"), axis = 1)\n",
    "odds_dataset[\"morey_prediction_list\"] = odds_dataset.morey_prediction.apply(lambda x: list(x.values()))\n",
    "\n",
    "odds_dataset[\"la_prediction\"] = odds_dataset.apply(lambda x: average_guesser(x[[\"b_\" + play for play in plays]], x[[\"p_\" + play for play in plays]], league_averages, x.pitbat), axis = 1)\n",
    "odds_dataset[\"la_prediction_list\"] = odds_dataset.la_prediction.apply(lambda x: list(x.values()))\n",
    "\n",
    "odds_dataset[\"actuals\"] = odds_dataset.apply(lambda x: list(x.la_prediction.keys()).index(x.play),axis=1)\n",
    "\n",
    "odds_dataset['yhat'] = odds_dataset.actuals.apply(lambda x: [0]*len(plays))\n",
    "odds_dataset['yhat'] = odds_dataset.apply(lambda x: x.yhat[0:x.actuals] +[1] +  x.yhat[x.actuals+1:], axis=1)\n",
    "\n",
    "odds_dataset = odds_dataset.drop(columns = [\"morey_prediction\", \"la_prediction\"])\n",
    "\n",
    "# Remove some instances with NA from pitchers who only make 1 app\n",
    "odds_dataset.dropna(inplace=True)"
   ]
  },
  {
   "cell_type": "code",
   "execution_count": 64,
   "id": "3e7ad2dd-8b6e-489d-8caa-b3b6aa6beb67",
   "metadata": {},
   "outputs": [
    {
     "name": "stderr",
     "output_type": "stream",
     "text": [
      "IOPub data rate exceeded.\n",
      "The Jupyter server will temporarily stop sending output\n",
      "to the client in order to avoid crashing it.\n",
      "To change this limit, set the config variable\n",
      "`--ServerApp.iopub_data_rate_limit`.\n",
      "\n",
      "Current values:\n",
      "ServerApp.iopub_data_rate_limit=1000000.0 (bytes/sec)\n",
      "ServerApp.rate_limit_window=3.0 (secs)\n",
      "\n"
     ]
    }
   ],
   "source": [
    "crappy_log_loss = log_loss(odds_dataset.la_prediction_list, odds_dataset.yhat)\n",
    "morey_log_loss = log_loss(odds_dataset.morey_prediction_list, odds_dataset.yhat)\n",
    "\n",
    "print(\"Crappy Log Loss: {}\".format(crappy_log_loss))\n",
    "print(\"Morey Log Loss: {}\".format(morey_log_loss))"
   ]
  },
  {
   "cell_type": "code",
   "execution_count": 65,
   "id": "0c3f94ff-83be-4e7c-9f31-817c02ab3cfd",
   "metadata": {},
   "outputs": [
    {
     "name": "stdout",
     "output_type": "stream",
     "text": [
      "out's average value is 0.4821648345592577\n",
      "out's crappy average prediction value is: 0.4822227813370794\n",
      "out's morey average prediction value is: 0.6564536916713998\n",
      "\n",
      "\n",
      "strikeout's average value is 0.19416227337019415\n",
      "strikeout's crappy average prediction value is: 0.2017325250721229\n",
      "strikeout's morey average prediction value is: 0.12347866440535127\n",
      "\n",
      "\n",
      "walk's average value is 0.08925061602370149\n",
      "walk's crappy average prediction value is: 0.08771363875109711\n",
      "walk's morey average prediction value is: 0.0638860064167906\n",
      "\n",
      "\n",
      "single's average value is 0.15794873948036203\n",
      "single's crappy average prediction value is: 0.1553348468574084\n",
      "single's morey average prediction value is: 0.11297797622883227\n",
      "\n",
      "\n",
      "double's average value is 0.045776006172045774\n",
      "double's crappy average prediction value is: 0.04495534493252304\n",
      "double's morey average prediction value is: 0.038202234414635085\n",
      "\n",
      "\n",
      "triple's average value is 0.004650027684984242\n",
      "triple's crappy average prediction value is: 0.004788239065214969\n",
      "triple's morey average prediction value is: 0.006273249288729499\n",
      "\n",
      "\n",
      "home_run's average value is 0.02604750270945462\n",
      "home_run's crappy average prediction value is: 0.025222096860185908\n",
      "home_run's morey average prediction value is: 0.027598471556667784\n",
      "\n",
      "\n"
     ]
    }
   ],
   "source": [
    "for play in plays:\n",
    "    df = odds_dataset[odds_dataset.play == play].copy()\n",
    "    play_percent = len(df)/len(odds_dataset)\n",
    "    \n",
    "    crappy_predictions = log_loss(df.la_prediction_list, df.yhat)\n",
    "    morey_predictions = log_loss(df.morey_prediction_list, df.yhat)\n",
    "    \n",
    "    print(str(play) + \"'s average value is {}\".format(play_percent))\n",
    "    print(str(play) + \"'s crappy average prediction value is: {}\".format(sum(crappy_predictions)/len(crappy_predictions)))\n",
    "    print(str(play) + \"'s morey average prediction value is: {}\".format(sum(morey_predictions)/len(morey_predictions)))\n",
    "    print(\"\\n\")\n",
    "    \n",
    "    "
   ]
  },
  {
   "cell_type": "code",
   "execution_count": null,
   "id": "bf53b10f-e0ab-4e3b-8d9f-4763441cf172",
   "metadata": {},
   "outputs": [],
   "source": [
    "sum([np.log10(x) for x in morey_log_loss])"
   ]
  },
  {
   "cell_type": "code",
   "execution_count": null,
   "id": "da12e74b-853b-461c-b691-fcf11f2a8f66",
   "metadata": {},
   "outputs": [],
   "source": []
  }
 ],
 "metadata": {
  "kernelspec": {
   "display_name": "Python 3 (ipykernel)",
   "language": "python",
   "name": "python3"
  },
  "language_info": {
   "codemirror_mode": {
    "name": "ipython",
    "version": 3
   },
   "file_extension": ".py",
   "mimetype": "text/x-python",
   "name": "python",
   "nbconvert_exporter": "python",
   "pygments_lexer": "ipython3",
   "version": "3.10.3"
  }
 },
 "nbformat": 4,
 "nbformat_minor": 5
}
