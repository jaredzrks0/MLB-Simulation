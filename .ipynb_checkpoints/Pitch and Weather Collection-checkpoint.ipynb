{
 "cells": [
  {
   "cell_type": "code",
   "execution_count": 7,
   "id": "50970cc5-bfde-48f7-9809-4cee49aa44d6",
   "metadata": {},
   "outputs": [],
   "source": [
    "import pandas as pd\n",
    "from baseball_scraper import statcast\n",
    "from datetime import datetime\n",
    "import warnings\n",
    "from IPython.display import clear_output\n",
    "import pickle as pkl\n",
    "import feather\n",
    "from bs4 import BeautifulSoup as bs\n",
    "from bs4 import Comment\n",
    "import requests\n",
    "\n",
    "\n",
    "warnings.simplefilter(\"ignore\")"
   ]
  },
  {
   "cell_type": "markdown",
   "id": "b916519c-c537-42d2-87be-12e50deb2618",
   "metadata": {},
   "source": [
    "## Collect Baseball Pitches 2012-2022"
   ]
  },
  {
   "cell_type": "code",
   "execution_count": 2,
   "id": "8de6f8dc-5ed0-40c4-83db-ec3969ada43a",
   "metadata": {},
   "outputs": [],
   "source": [
    "date_range = pd.date_range(\"03/26/2012\", \"12/01/2012\")"
   ]
  },
  {
   "cell_type": "code",
   "execution_count": 3,
   "id": "398f94f6-6415-40a9-9546-80b1876e5a90",
   "metadata": {},
   "outputs": [],
   "source": [
    "def collect_pitches(date_range, df):\n",
    "    for date in date_range:\n",
    "        print(str(date.date()))\n",
    "        # Collects all pitches in the given date range and appends to a singular df\n",
    "        daily_pitches = statcast(start_dt=str(date.date()), end_dt=str(date.date()))\n",
    "        df = df.append(daily_pitches)\n",
    "        clear_output(wait=True)\n",
    "    return df"
   ]
  },
  {
   "cell_type": "code",
   "execution_count": 539,
   "id": "423993d6-ca2b-4846-a15a-ae014031fdf5",
   "metadata": {},
   "outputs": [
    {
     "name": "stdout",
     "output_type": "stream",
     "text": [
      "2012-12-01\n"
     ]
    }
   ],
   "source": [
    "starter = statcast(start_dt='2012-03-25', end_dt='2012-03-25')\n",
    "x = collect_pitches(date_range, starter)"
   ]
  },
  {
   "cell_type": "markdown",
   "id": "b5c5ce15-6e7c-46a8-b2fa-e083de3d0048",
   "metadata": {
    "tags": []
   },
   "source": [
    "## Import and Breakup Pitches 2016-2020"
   ]
  },
  {
   "cell_type": "code",
   "execution_count": 157,
   "id": "da5e7f2a-3001-4f13-b86c-7e8442ee7278",
   "metadata": {},
   "outputs": [],
   "source": [
    "prior_data = pd.read_feather(\"All Pitch Data 2016-2020\")\n",
    "prior_data[\"year\"] = prior_data.game_date.apply(lambda x: x.year)"
   ]
  },
  {
   "cell_type": "code",
   "execution_count": 158,
   "id": "d23a0864-ddd6-4220-9bb9-eb6e48bf84ec",
   "metadata": {},
   "outputs": [],
   "source": [
    "pitches_2016 = prior_data[prior_data.year == 2016].reset_index(drop=True)\n",
    "pitches_2017 = prior_data[prior_data.year == 2017].reset_index(drop=True)\n",
    "pitches_2018 = prior_data[prior_data.year == 2018].reset_index(drop=True)\n",
    "pitches_2019 = prior_data[prior_data.year == 2019].reset_index(drop=True)\n",
    "pitches_2020 = prior_data[prior_data.year == 2020].reset_index(drop=True)\n",
    "\n",
    "# Fix a strange series to begin 2020 where the Blue Jays played as the home team IN Washington\n",
    "\n",
    "strange_games = pitches_2020[(pitches_2020.home_team == \"TOR\") & (pitches_2020.away_team == \"WSH\")].index\n",
    "pitches_2020.loc[strange_games, \"home_team\"] = \"WSH\"\n",
    "pitches_2020.loc[strange_games, \"away_team\"] = \"TOR\""
   ]
  },
  {
   "cell_type": "code",
   "execution_count": 159,
   "id": "63b382e6-cbd9-40b6-b4f1-82ddd6dbea10",
   "metadata": {},
   "outputs": [],
   "source": [
    "pkl.dump(pitches_2016,open(\"pitches_2016.pkl\",\"wb\"))\n",
    "pkl.dump(pitches_2017,open(\"pitches_2017.pkl\",\"wb\"))\n",
    "pkl.dump(pitches_2018,open(\"pitches_2018.pkl\",\"wb\"))\n",
    "pkl.dump(pitches_2019,open(\"pitches_2019.pkl\",\"wb\"))\n",
    "pkl.dump(pitches_2020,open(\"pitches_2020.pkl\",\"wb\"))"
   ]
  },
  {
   "cell_type": "markdown",
   "id": "98fe1fe3-ac9f-42c3-bfb1-e17cd08bc51f",
   "metadata": {},
   "source": [
    "## Scrape Weather Data"
   ]
  },
  {
   "cell_type": "markdown",
   "id": "c79d7eb0-71aa-48a0-9759-e679baab3d2e",
   "metadata": {},
   "source": [
    "WEATHER COLLECTION WEBSITES\n",
    "\n",
    "Baseball Reference and/or Fangraphs if they have forecasts for tomorrow's games\n",
    "https://www.oddstrader.com/mlb/weather/\n",
    "https://swishanalytics.com/mlb/weather?date=2023-10-23"
   ]
  },
  {
   "cell_type": "code",
   "execution_count": 114,
   "id": "0aa96ab2-f9c0-4f1d-a278-7e2e3a92216a",
   "metadata": {},
   "outputs": [
    {
     "ename": "IndexError",
     "evalue": "list index out of range",
     "output_type": "error",
     "traceback": [
      "\u001b[0;31m---------------------------------------------------------------------------\u001b[0m",
      "\u001b[0;31mIndexError\u001b[0m                                Traceback (most recent call last)",
      "Input \u001b[0;32mIn [114]\u001b[0m, in \u001b[0;36m<cell line: 3>\u001b[0;34m()\u001b[0m\n\u001b[1;32m     29\u001b[0m \u001b[38;5;28;01mif\u001b[39;00m \u001b[38;5;28mlen\u001b[39m(game_weather) \u001b[38;5;241m==\u001b[39m \u001b[38;5;241m0\u001b[39m:\n\u001b[1;32m     30\u001b[0m     game_weather \u001b[38;5;241m=\u001b[39m game_soup\u001b[38;5;241m.\u001b[39mfind_all(\u001b[38;5;124m\"\u001b[39m\u001b[38;5;124mdiv\u001b[39m\u001b[38;5;124m\"\u001b[39m, {\u001b[38;5;124m\"\u001b[39m\u001b[38;5;124mid\u001b[39m\u001b[38;5;124m\"\u001b[39m:\u001b[38;5;124m\"\u001b[39m\u001b[38;5;124mall_3716958924\u001b[39m\u001b[38;5;124m\"\u001b[39m}) \n\u001b[0;32m---> 34\u001b[0m comments \u001b[38;5;241m=\u001b[39m \u001b[43mgame_weather\u001b[49m\u001b[43m[\u001b[49m\u001b[38;5;241;43m0\u001b[39;49m\u001b[43m]\u001b[49m\u001b[38;5;241m.\u001b[39mfind_all(text\u001b[38;5;241m=\u001b[39m\u001b[38;5;28;01mlambda\u001b[39;00m text:\u001b[38;5;28misinstance\u001b[39m(text, Comment))\n\u001b[1;32m     35\u001b[0m weather \u001b[38;5;241m=\u001b[39m [bs(cmt)\u001b[38;5;241m.\u001b[39mfind_all(\u001b[38;5;124m'\u001b[39m\u001b[38;5;124mdiv\u001b[39m\u001b[38;5;124m'\u001b[39m) \u001b[38;5;28;01mfor\u001b[39;00m cmt \u001b[38;5;129;01min\u001b[39;00m comments][\u001b[38;5;241m0\u001b[39m][\u001b[38;5;241m-\u001b[39m\u001b[38;5;241m1\u001b[39m]\u001b[38;5;241m.\u001b[39mtext\n\u001b[1;32m     37\u001b[0m names \u001b[38;5;241m=\u001b[39m game_soup\u001b[38;5;241m.\u001b[39mfind_all(\u001b[38;5;124m\"\u001b[39m\u001b[38;5;124ma\u001b[39m\u001b[38;5;124m\"\u001b[39m, {\u001b[38;5;124m\"\u001b[39m\u001b[38;5;124mitemprop\u001b[39m\u001b[38;5;124m\"\u001b[39m:\u001b[38;5;124m\"\u001b[39m\u001b[38;5;124mname\u001b[39m\u001b[38;5;124m\"\u001b[39m})\n",
      "\u001b[0;31mIndexError\u001b[0m: list index out of range"
     ]
    }
   ],
   "source": [
    "all_weather = pd.DataFrame()\n",
    "\n",
    "for year in [\"2022\"]:#[\"2012\", \"2013\",\"2014\",\"2015\", \"2016\", \"2017\", \"2018\", \"2019\", \"2020\", \"2021\", \"2022\"]:\n",
    "    url = \"https://www.baseball-reference.com/leagues/majors/{}-schedule.shtml\".format(year)\n",
    "    webpage = requests.get(url)\n",
    "    soup = bs(webpage.content, \"html.parser\")\n",
    "    games = soup.find_all(\"p\", {\"class\":\"game\"})\n",
    "    for game in games:\n",
    "        game_url = \"https://www.baseball-reference.com/\" + game.em.a['href']\n",
    "        game_webpage = requests.get(game_url)\n",
    "        game_soup = bs(game_webpage.content, \"html.parser\")\n",
    "        game_weather = game_soup.find_all(\"div\", {\"id\":\"all_5821622361\"})\n",
    "        if len(game_weather) == 0:\n",
    "            game_weather = game_soup.find_all(\"div\", {\"id\":\"all_6469399717\"})\n",
    "        if len(game_weather) == 0:\n",
    "            game_weather = game_soup.find_all(\"div\", {\"id\":\"all_2016723098\"})\n",
    "        if len(game_weather) == 0:\n",
    "            game_weather = game_soup.find_all(\"div\", {\"id\":\"div_5821622361\"})\n",
    "        if len(game_weather) == 0:\n",
    "            game_weather = game_soup.find_all(\"div\", {\"id\":\"all_3471289817\"})\n",
    "        if len(game_weather) == 0:\n",
    "            game_weather = game_soup.find_all(\"div\", {\"id\":\"all_3390179539\"})\n",
    "        if len(game_weather) == 0:\n",
    "            game_weather = game_soup.find_all(\"div\", {\"id\":\"all_8155599404\"})\n",
    "        if len(game_weather) == 0:\n",
    "            game_weather = game_soup.find_all(\"div\", {\"id\":\"all_4881795978\"})  \n",
    "        if len(game_weather) == 0:\n",
    "            game_weather = game_soup.find_all(\"div\", {\"id\":\"all_6350237457\"})  \n",
    "        if len(game_weather) == 0:\n",
    "            game_weather = game_soup.find_all(\"div\", {\"id\":\"all_3716958924\"}) \n",
    "            \n",
    "        \n",
    "            \n",
    "        comments = game_weather[0].find_all(text=lambda text:isinstance(text, Comment))\n",
    "        weather = [bs(cmt).find_all('div') for cmt in comments][0][-1].text\n",
    "        \n",
    "        names = game_soup.find_all(\"a\", {\"itemprop\":\"name\"})\n",
    "        if len(names) == 0:\n",
    "            try:\n",
    "                away_team = game_soup.find_all(\"table\", {\"class\":\"teams poptip\"})[0][\"data-tip\"].split(\" at \")[0]\n",
    "            except:\n",
    "                home_team = game_soup.find_all(\"div\", {\"class\":\"box\"})[0].h1.text.split(\" vs \")[-1].split(\" Box\")[0]\n",
    "\n",
    "            try:    \n",
    "                home_team = game_soup.find_all(\"table\", {\"class\":\"teams poptip\"})[0][\"data-tip\"].split(\" at \")[1]\n",
    "            except:\n",
    "                away_team = game_soup.find_all(\"div\", {\"class\":\"box\"})[0].h1.text.split(\" vs\")[0]\n",
    "        else:\n",
    "            if year < \"2022\":\n",
    "                away_team = names[0].text\n",
    "                home_team = names[1].text\n",
    "            else:\n",
    "                home_team = names[1].text\n",
    "                away_team = names[0].text\n",
    "                \n",
    "        timing = game_soup.find_all(\"div\", {\"class\":\"scorebox_meta\"})[0].div.text\n",
    "        \n",
    "        weather_insert = pd.Series({\"home_team\":home_team, \"away_team\":away_team, \"date\":timing, \"weather\":weather})\n",
    "        \n",
    "        all_weather = all_weather.append(weather_insert, ignore_index = True)\n",
    "        \n",
    "        print(timing)\n",
    "        \n",
    "        clear_output(wait=True)\n",
    "    all_weather.away_team = all_weather.away_team.apply(lambda x: \" \".join(x) if type(x) == list else x)"
   ]
  },
  {
   "cell_type": "code",
   "execution_count": 134,
   "id": "76cbebd6-b1a6-4f8b-944f-c488d051db79",
   "metadata": {},
   "outputs": [
    {
     "ename": "AttributeError",
     "evalue": "'Timestamp' object has no attribute 'split'",
     "output_type": "error",
     "traceback": [
      "\u001b[0;31m---------------------------------------------------------------------------\u001b[0m",
      "\u001b[0;31mAttributeError\u001b[0m                            Traceback (most recent call last)",
      "Input \u001b[0;32mIn [134]\u001b[0m, in \u001b[0;36m<cell line: 1>\u001b[0;34m()\u001b[0m\n\u001b[0;32m----> 1\u001b[0m all_weather\u001b[38;5;241m.\u001b[39mdate \u001b[38;5;241m=\u001b[39m \u001b[43mall_weather\u001b[49m\u001b[38;5;241;43m.\u001b[39;49m\u001b[43mdate\u001b[49m\u001b[38;5;241;43m.\u001b[39;49m\u001b[43mapply\u001b[49m\u001b[43m(\u001b[49m\u001b[38;5;28;43;01mlambda\u001b[39;49;00m\u001b[43m \u001b[49m\u001b[43mx\u001b[49m\u001b[43m:\u001b[49m\u001b[43m \u001b[49m\u001b[43mdatetime\u001b[49m\u001b[38;5;241;43m.\u001b[39;49m\u001b[43mstrptime\u001b[49m\u001b[43m(\u001b[49m\u001b[38;5;124;43m\"\u001b[39;49m\u001b[38;5;124;43m \u001b[39;49m\u001b[38;5;124;43m\"\u001b[39;49m\u001b[38;5;241;43m.\u001b[39;49m\u001b[43mjoin\u001b[49m\u001b[43m(\u001b[49m\u001b[43mx\u001b[49m\u001b[38;5;241;43m.\u001b[39;49m\u001b[43msplit\u001b[49m\u001b[43m(\u001b[49m\u001b[38;5;124;43m\"\u001b[39;49m\u001b[38;5;124;43m, \u001b[39;49m\u001b[38;5;124;43m\"\u001b[39;49m\u001b[43m)\u001b[49m\u001b[43m[\u001b[49m\u001b[38;5;241;43m1\u001b[39;49m\u001b[43m:\u001b[49m\u001b[43m]\u001b[49m\u001b[43m)\u001b[49m\u001b[43m,\u001b[49m\u001b[43m \u001b[49m\u001b[38;5;124;43m\"\u001b[39;49m\u001b[38;5;124;43m%\u001b[39;49m\u001b[38;5;124;43mB \u001b[39;49m\u001b[38;5;132;43;01m%d\u001b[39;49;00m\u001b[38;5;124;43m \u001b[39;49m\u001b[38;5;124;43m%\u001b[39;49m\u001b[38;5;124;43mY\u001b[39;49m\u001b[38;5;124;43m\"\u001b[39;49m\u001b[43m)\u001b[49m\u001b[43m)\u001b[49m\n\u001b[1;32m      2\u001b[0m all_weather\u001b[38;5;241m.\u001b[39mhome_team \u001b[38;5;241m=\u001b[39m all_weather\u001b[38;5;241m.\u001b[39mhome_team\u001b[38;5;241m.\u001b[39mapply(\u001b[38;5;28;01mlambda\u001b[39;00m x: \u001b[38;5;124m\"\u001b[39m\u001b[38;5;124mLos Angeles Angels\u001b[39m\u001b[38;5;124m\"\u001b[39m \u001b[38;5;28;01mif\u001b[39;00m x \u001b[38;5;241m==\u001b[39m \u001b[38;5;124m\"\u001b[39m\u001b[38;5;124mLos Angeles Angels of Anaheim\u001b[39m\u001b[38;5;124m\"\u001b[39m \u001b[38;5;28;01melse\u001b[39;00m x)\n\u001b[1;32m      3\u001b[0m all_weather\u001b[38;5;241m.\u001b[39maway_team \u001b[38;5;241m=\u001b[39m all_weather\u001b[38;5;241m.\u001b[39maway_team\u001b[38;5;241m.\u001b[39mapply(\u001b[38;5;28;01mlambda\u001b[39;00m x: \u001b[38;5;124m\"\u001b[39m\u001b[38;5;124mLos Angeles Angels\u001b[39m\u001b[38;5;124m\"\u001b[39m \u001b[38;5;28;01mif\u001b[39;00m x \u001b[38;5;241m==\u001b[39m \u001b[38;5;124m\"\u001b[39m\u001b[38;5;124mLos Angeles Angels of Anaheim\u001b[39m\u001b[38;5;124m\"\u001b[39m \u001b[38;5;28;01melse\u001b[39;00m x)\n",
      "File \u001b[0;32m/Library/Frameworks/Python.framework/Versions/3.10/lib/python3.10/site-packages/pandas/core/series.py:4433\u001b[0m, in \u001b[0;36mSeries.apply\u001b[0;34m(self, func, convert_dtype, args, **kwargs)\u001b[0m\n\u001b[1;32m   4323\u001b[0m \u001b[38;5;28;01mdef\u001b[39;00m \u001b[38;5;21mapply\u001b[39m(\n\u001b[1;32m   4324\u001b[0m     \u001b[38;5;28mself\u001b[39m,\n\u001b[1;32m   4325\u001b[0m     func: AggFuncType,\n\u001b[0;32m   (...)\u001b[0m\n\u001b[1;32m   4328\u001b[0m     \u001b[38;5;241m*\u001b[39m\u001b[38;5;241m*\u001b[39mkwargs,\n\u001b[1;32m   4329\u001b[0m ) \u001b[38;5;241m-\u001b[39m\u001b[38;5;241m>\u001b[39m DataFrame \u001b[38;5;241m|\u001b[39m Series:\n\u001b[1;32m   4330\u001b[0m     \u001b[38;5;124;03m\"\"\"\u001b[39;00m\n\u001b[1;32m   4331\u001b[0m \u001b[38;5;124;03m    Invoke function on values of Series.\u001b[39;00m\n\u001b[1;32m   4332\u001b[0m \n\u001b[0;32m   (...)\u001b[0m\n\u001b[1;32m   4431\u001b[0m \u001b[38;5;124;03m    dtype: float64\u001b[39;00m\n\u001b[1;32m   4432\u001b[0m \u001b[38;5;124;03m    \"\"\"\u001b[39;00m\n\u001b[0;32m-> 4433\u001b[0m     \u001b[38;5;28;01mreturn\u001b[39;00m \u001b[43mSeriesApply\u001b[49m\u001b[43m(\u001b[49m\u001b[38;5;28;43mself\u001b[39;49m\u001b[43m,\u001b[49m\u001b[43m \u001b[49m\u001b[43mfunc\u001b[49m\u001b[43m,\u001b[49m\u001b[43m \u001b[49m\u001b[43mconvert_dtype\u001b[49m\u001b[43m,\u001b[49m\u001b[43m \u001b[49m\u001b[43margs\u001b[49m\u001b[43m,\u001b[49m\u001b[43m \u001b[49m\u001b[43mkwargs\u001b[49m\u001b[43m)\u001b[49m\u001b[38;5;241;43m.\u001b[39;49m\u001b[43mapply\u001b[49m\u001b[43m(\u001b[49m\u001b[43m)\u001b[49m\n",
      "File \u001b[0;32m/Library/Frameworks/Python.framework/Versions/3.10/lib/python3.10/site-packages/pandas/core/apply.py:1082\u001b[0m, in \u001b[0;36mSeriesApply.apply\u001b[0;34m(self)\u001b[0m\n\u001b[1;32m   1078\u001b[0m \u001b[38;5;28;01mif\u001b[39;00m \u001b[38;5;28misinstance\u001b[39m(\u001b[38;5;28mself\u001b[39m\u001b[38;5;241m.\u001b[39mf, \u001b[38;5;28mstr\u001b[39m):\n\u001b[1;32m   1079\u001b[0m     \u001b[38;5;66;03m# if we are a string, try to dispatch\u001b[39;00m\n\u001b[1;32m   1080\u001b[0m     \u001b[38;5;28;01mreturn\u001b[39;00m \u001b[38;5;28mself\u001b[39m\u001b[38;5;241m.\u001b[39mapply_str()\n\u001b[0;32m-> 1082\u001b[0m \u001b[38;5;28;01mreturn\u001b[39;00m \u001b[38;5;28;43mself\u001b[39;49m\u001b[38;5;241;43m.\u001b[39;49m\u001b[43mapply_standard\u001b[49m\u001b[43m(\u001b[49m\u001b[43m)\u001b[49m\n",
      "File \u001b[0;32m/Library/Frameworks/Python.framework/Versions/3.10/lib/python3.10/site-packages/pandas/core/apply.py:1137\u001b[0m, in \u001b[0;36mSeriesApply.apply_standard\u001b[0;34m(self)\u001b[0m\n\u001b[1;32m   1131\u001b[0m         values \u001b[38;5;241m=\u001b[39m obj\u001b[38;5;241m.\u001b[39mastype(\u001b[38;5;28mobject\u001b[39m)\u001b[38;5;241m.\u001b[39m_values\n\u001b[1;32m   1132\u001b[0m         \u001b[38;5;66;03m# error: Argument 2 to \"map_infer\" has incompatible type\u001b[39;00m\n\u001b[1;32m   1133\u001b[0m         \u001b[38;5;66;03m# \"Union[Callable[..., Any], str, List[Union[Callable[..., Any], str]],\u001b[39;00m\n\u001b[1;32m   1134\u001b[0m         \u001b[38;5;66;03m# Dict[Hashable, Union[Union[Callable[..., Any], str],\u001b[39;00m\n\u001b[1;32m   1135\u001b[0m         \u001b[38;5;66;03m# List[Union[Callable[..., Any], str]]]]]\"; expected\u001b[39;00m\n\u001b[1;32m   1136\u001b[0m         \u001b[38;5;66;03m# \"Callable[[Any], Any]\"\u001b[39;00m\n\u001b[0;32m-> 1137\u001b[0m         mapped \u001b[38;5;241m=\u001b[39m \u001b[43mlib\u001b[49m\u001b[38;5;241;43m.\u001b[39;49m\u001b[43mmap_infer\u001b[49m\u001b[43m(\u001b[49m\n\u001b[1;32m   1138\u001b[0m \u001b[43m            \u001b[49m\u001b[43mvalues\u001b[49m\u001b[43m,\u001b[49m\n\u001b[1;32m   1139\u001b[0m \u001b[43m            \u001b[49m\u001b[43mf\u001b[49m\u001b[43m,\u001b[49m\u001b[43m  \u001b[49m\u001b[38;5;66;43;03m# type: ignore[arg-type]\u001b[39;49;00m\n\u001b[1;32m   1140\u001b[0m \u001b[43m            \u001b[49m\u001b[43mconvert\u001b[49m\u001b[38;5;241;43m=\u001b[39;49m\u001b[38;5;28;43mself\u001b[39;49m\u001b[38;5;241;43m.\u001b[39;49m\u001b[43mconvert_dtype\u001b[49m\u001b[43m,\u001b[49m\n\u001b[1;32m   1141\u001b[0m \u001b[43m        \u001b[49m\u001b[43m)\u001b[49m\n\u001b[1;32m   1143\u001b[0m \u001b[38;5;28;01mif\u001b[39;00m \u001b[38;5;28mlen\u001b[39m(mapped) \u001b[38;5;129;01mand\u001b[39;00m \u001b[38;5;28misinstance\u001b[39m(mapped[\u001b[38;5;241m0\u001b[39m], ABCSeries):\n\u001b[1;32m   1144\u001b[0m     \u001b[38;5;66;03m# GH#43986 Need to do list(mapped) in order to get treated as nested\u001b[39;00m\n\u001b[1;32m   1145\u001b[0m     \u001b[38;5;66;03m#  See also GH#25959 regarding EA support\u001b[39;00m\n\u001b[1;32m   1146\u001b[0m     \u001b[38;5;28;01mreturn\u001b[39;00m obj\u001b[38;5;241m.\u001b[39m_constructor_expanddim(\u001b[38;5;28mlist\u001b[39m(mapped), index\u001b[38;5;241m=\u001b[39mobj\u001b[38;5;241m.\u001b[39mindex)\n",
      "File \u001b[0;32m/Library/Frameworks/Python.framework/Versions/3.10/lib/python3.10/site-packages/pandas/_libs/lib.pyx:2870\u001b[0m, in \u001b[0;36mpandas._libs.lib.map_infer\u001b[0;34m()\u001b[0m\n",
      "Input \u001b[0;32mIn [134]\u001b[0m, in \u001b[0;36m<lambda>\u001b[0;34m(x)\u001b[0m\n\u001b[0;32m----> 1\u001b[0m all_weather\u001b[38;5;241m.\u001b[39mdate \u001b[38;5;241m=\u001b[39m all_weather\u001b[38;5;241m.\u001b[39mdate\u001b[38;5;241m.\u001b[39mapply(\u001b[38;5;28;01mlambda\u001b[39;00m x: datetime\u001b[38;5;241m.\u001b[39mstrptime(\u001b[38;5;124m\"\u001b[39m\u001b[38;5;124m \u001b[39m\u001b[38;5;124m\"\u001b[39m\u001b[38;5;241m.\u001b[39mjoin(\u001b[43mx\u001b[49m\u001b[38;5;241;43m.\u001b[39;49m\u001b[43msplit\u001b[49m(\u001b[38;5;124m\"\u001b[39m\u001b[38;5;124m, \u001b[39m\u001b[38;5;124m\"\u001b[39m)[\u001b[38;5;241m1\u001b[39m:]), \u001b[38;5;124m\"\u001b[39m\u001b[38;5;124m%\u001b[39m\u001b[38;5;124mB \u001b[39m\u001b[38;5;132;01m%d\u001b[39;00m\u001b[38;5;124m \u001b[39m\u001b[38;5;124m%\u001b[39m\u001b[38;5;124mY\u001b[39m\u001b[38;5;124m\"\u001b[39m))\n\u001b[1;32m      2\u001b[0m all_weather\u001b[38;5;241m.\u001b[39mhome_team \u001b[38;5;241m=\u001b[39m all_weather\u001b[38;5;241m.\u001b[39mhome_team\u001b[38;5;241m.\u001b[39mapply(\u001b[38;5;28;01mlambda\u001b[39;00m x: \u001b[38;5;124m\"\u001b[39m\u001b[38;5;124mLos Angeles Angels\u001b[39m\u001b[38;5;124m\"\u001b[39m \u001b[38;5;28;01mif\u001b[39;00m x \u001b[38;5;241m==\u001b[39m \u001b[38;5;124m\"\u001b[39m\u001b[38;5;124mLos Angeles Angels of Anaheim\u001b[39m\u001b[38;5;124m\"\u001b[39m \u001b[38;5;28;01melse\u001b[39;00m x)\n\u001b[1;32m      3\u001b[0m all_weather\u001b[38;5;241m.\u001b[39maway_team \u001b[38;5;241m=\u001b[39m all_weather\u001b[38;5;241m.\u001b[39maway_team\u001b[38;5;241m.\u001b[39mapply(\u001b[38;5;28;01mlambda\u001b[39;00m x: \u001b[38;5;124m\"\u001b[39m\u001b[38;5;124mLos Angeles Angels\u001b[39m\u001b[38;5;124m\"\u001b[39m \u001b[38;5;28;01mif\u001b[39;00m x \u001b[38;5;241m==\u001b[39m \u001b[38;5;124m\"\u001b[39m\u001b[38;5;124mLos Angeles Angels of Anaheim\u001b[39m\u001b[38;5;124m\"\u001b[39m \u001b[38;5;28;01melse\u001b[39;00m x)\n",
      "\u001b[0;31mAttributeError\u001b[0m: 'Timestamp' object has no attribute 'split'"
     ]
    }
   ],
   "source": [
    "all_weather.date = all_weather.date.apply(lambda x: datetime.strptime(\" \".join(x.split(\", \")[1:]), \"%B %d %Y\"))\n",
    "all_weather.home_team = all_weather.home_team.apply(lambda x: \"Los Angeles Angels\" if x == \"Los Angeles Angels of Anaheim\" else x)\n",
    "all_weather.away_team = all_weather.away_team.apply(lambda x: \"Los Angeles Angels\" if x == \"Los Angeles Angels of Anaheim\" else x)\n",
    "all_weather.home_team = all_weather.home_team.apply(lambda x: \"Cleveland Guardians\" if x == \"Cleveland Indians\" else x)\n",
    "all_weather.away_team = all_weather.away_team.apply(lambda x: \"Cleveland Guardians\" if x == \"Cleveland Indians\" else x)\n",
    "#pkl.dump(all_weather, open(\"weather_data.pkl\", \"wb\"))"
   ]
  },
  {
   "cell_type": "code",
   "execution_count": 140,
   "id": "0a50605b-372f-488c-a662-9cfca23e43d7",
   "metadata": {},
   "outputs": [],
   "source": [
    "all_weather.date = all_weather.date.apply(lambda x: str(x).split(\" \")[0])"
   ]
  },
  {
   "cell_type": "code",
   "execution_count": 141,
   "id": "b4f0c18d-5864-4b92-82ec-42355201ce73",
   "metadata": {},
   "outputs": [],
   "source": [
    "weather = pkl.load(open(\"weather_data.pkl\", \"rb\"))"
   ]
  },
  {
   "cell_type": "code",
   "execution_count": 142,
   "id": "bc59b859-ee1b-4a5e-896f-3bf66c306ba1",
   "metadata": {},
   "outputs": [],
   "source": [
    "weather = weather[weather.date < \"2022-01-01\"]"
   ]
  },
  {
   "cell_type": "code",
   "execution_count": 143,
   "id": "6b514a7d-7762-458a-b4c3-b6657c859df8",
   "metadata": {},
   "outputs": [],
   "source": [
    "weather = weather.append(all_weather)"
   ]
  },
  {
   "cell_type": "code",
   "execution_count": 145,
   "id": "bfcd49a2-c0fe-41ba-9808-0677ffc59437",
   "metadata": {},
   "outputs": [],
   "source": [
    "pkl.dump(weather, open(\"weather_data.pkl\",\"wb\"))"
   ]
  },
  {
   "cell_type": "markdown",
   "id": "348c81b3-add2-405e-8b8d-879ace832b80",
   "metadata": {
    "tags": []
   },
   "source": [
    "## Attach the weather data to the pitch data"
   ]
  },
  {
   "cell_type": "code",
   "execution_count": 38,
   "id": "24f8e65c-3b3f-47ca-a2b2-f78bdfbed6b4",
   "metadata": {},
   "outputs": [],
   "source": [
    "pitches_2012 = pkl.load(open(\"pitches_2012.pkl\",\"rb\"))\n",
    "pitches_2013 = pkl.load(open(\"pitches_2013.pkl\",\"rb\"))\n",
    "pitches_2014 = pkl.load(open(\"pitches_2014.pkl\",\"rb\"))\n",
    "pitches_2015 = pkl.load(open(\"pitches_2015.pkl\",\"rb\"))\n",
    "pitches_2016 = pkl.load(open(\"pitches_2016.pkl\",\"rb\"))\n",
    "pitches_2017 = pkl.load(open(\"pitches_2017.pkl\",\"rb\"))\n",
    "pitches_2018 = pkl.load(open(\"pitches_2018.pkl\",\"rb\"))\n",
    "pitches_2019 = pkl.load(open(\"pitches_2019.pkl\",\"rb\"))\n",
    "pitches_2020 = pkl.load(open(\"pitches_2020.pkl\",\"rb\"))\n",
    "pitches_2021 = pkl.load(open(\"pitches_2021.pkl\",\"rb\"))\n",
    "pitches_2022 = pkl.load(open(\"pitches_2022.pkl\",\"rb\"))"
   ]
  }
 ],
 "metadata": {
  "kernelspec": {
   "display_name": "Python 3 (ipykernel)",
   "language": "python",
   "name": "python3"
  },
  "language_info": {
   "codemirror_mode": {
    "name": "ipython",
    "version": 3
   },
   "file_extension": ".py",
   "mimetype": "text/x-python",
   "name": "python",
   "nbconvert_exporter": "python",
   "pygments_lexer": "ipython3",
   "version": "3.10.3"
  }
 },
 "nbformat": 4,
 "nbformat_minor": 5
}
