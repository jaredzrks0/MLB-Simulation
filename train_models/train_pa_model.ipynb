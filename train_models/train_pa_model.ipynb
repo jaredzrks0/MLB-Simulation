{
 "cells": [
  {
   "cell_type": "markdown",
   "id": "642947ba-155c-404b-94d5-a9a94271847d",
   "metadata": {},
   "source": [
    "# Load prior saved versions of x,y datasets below while updates in progress for building datasets code"
   ]
  },
  {
   "cell_type": "markdown",
   "id": "5b4bd5d6-922f-4a83-b640-6c1a395ecc0b",
   "metadata": {},
   "source": [
    "#### GRID SEARCHES AND TIME CONSUMING ALGORITHM'S ARE CURRENTLY TRAINED ON A 10,000 INSTANCE SUBSET FOR NOW"
   ]
  },
  {
   "cell_type": "markdown",
   "id": "d48d40ef-d15a-4307-9679-a2a38ae210ed",
   "metadata": {},
   "source": [
    "# Summary of Results"
   ]
  },
  {
   "cell_type": "code",
   "execution_count": 1,
   "id": "940da1f8-18ca-4b0a-b88a-3a7e360c63ae",
   "metadata": {},
   "outputs": [
    {
     "ename": "NameError",
     "evalue": "name 'plt' is not defined",
     "output_type": "error",
     "traceback": [
      "\u001b[0;31m---------------------------------------------------------------------------\u001b[0m",
      "\u001b[0;31mNameError\u001b[0m                                 Traceback (most recent call last)",
      "Cell \u001b[0;32mIn[1], line 1\u001b[0m\n\u001b[0;32m----> 1\u001b[0m \u001b[43mplt\u001b[49m\u001b[38;5;241m.\u001b[39mfigure(figsize \u001b[38;5;241m=\u001b[39m (\u001b[38;5;241m10\u001b[39m,\u001b[38;5;241m5\u001b[39m))\n\u001b[1;32m      2\u001b[0m plt\u001b[38;5;241m.\u001b[39mbar(summary_df\u001b[38;5;241m.\u001b[39mModels, summary_df\u001b[38;5;241m.\u001b[39mScores)\n\u001b[1;32m      3\u001b[0m plt\u001b[38;5;241m.\u001b[39mxticks(rotation\u001b[38;5;241m=\u001b[39m\u001b[38;5;241m45\u001b[39m)\n",
      "\u001b[0;31mNameError\u001b[0m: name 'plt' is not defined"
     ]
    }
   ],
   "source": [
    "plt.figure(figsize = (10,5))\n",
    "plt.bar(summary_df.Models, summary_df.Scores)\n",
    "plt.xticks(rotation=45)\n",
    "plt.xticks(fontsize = 12)\n",
    "plt.axhline(y = -model_summary[\"Baseline Guesser\"][\"Score\"], color = 'k', linestyle = 'dashed')     \n",
    "plt.title(\"Final Log Loss by Model\", fontsize=16)\n",
    "summary_df[[\"Models\", \"Scores\"]]"
   ]
  },
  {
   "cell_type": "markdown",
   "id": "79a5e2ef-e5cd-480f-b34d-ddd6500f1ccd",
   "metadata": {},
   "source": [
    "# Training Models"
   ]
  },
  {
   "cell_type": "code",
   "execution_count": 5,
   "id": "6f6950fb-8f3f-471e-a686-d336ab409a69",
   "metadata": {},
   "outputs": [],
   "source": [
    "import pandas as pd\n",
    "import numpy as np\n",
    "import pickle as pkl\n",
    "import random\n",
    "import time\n",
    "import math\n",
    "import sklearn\n",
    "import itertools\n",
    "from xgboost import XGBClassifier\n",
    "from sklearn.metrics import log_loss\n",
    "from sklearn.tree import DecisionTreeClassifier\n",
    "from sklearn.base import clone\n",
    "from sklearn.preprocessing import MultiLabelBinarizer, OrdinalEncoder\n",
    "from sklearn.linear_model import LinearRegression, LogisticRegression\n",
    "from sklearn.neighbors import KNeighborsClassifier\n",
    "from sklearn.ensemble import RandomForestClassifier, GradientBoostingClassifier, HistGradientBoostingClassifier, AdaBoostClassifier\n",
    "from sklearn.svm import SVC\n",
    "from sklearn.model_selection import train_test_split, StratifiedShuffleSplit\n",
    "from sklearn.preprocessing import OneHotEncoder, StandardScaler\n",
    "from sklearn.compose import ColumnTransformer\n",
    "from sklearn.pipeline import Pipeline\n",
    "from sklearn.metrics import log_loss\n",
    "from sklearn.model_selection import cross_val_score, RandomizedSearchCV, cross_validate, cross_val_predict, GridSearchCV\n",
    "import matplotlib.pyplot as plt\n",
    "import warnings\n",
    "import matplotlib.pyplot as plt\n",
    "from IPython.display import clear_output\n",
    "from sklearn.exceptions import ConvergenceWarning\n",
    "\n",
    "#from ipynb.fs.full.Building_Dataset_Functions import * \n",
    "\n",
    "hand_combos = [\"RR\", \"RL\", \"LR\", \"LL\"]\n",
    "training_years = [\"2012\", \"2013\", \"2014\"]\n",
    "\n",
    "\n",
    "warnings.simplefilter(\"ignore\")\n"
   ]
  },
  {
   "cell_type": "code",
   "execution_count": 7,
   "id": "287799aa-323b-4819-928a-9cd9056958df",
   "metadata": {},
   "outputs": [],
   "source": [
    "X = pkl.load(open(\"/Users/jaredzirkes/Desktop/Python/Non-Github/Project - MLB Simulation/Checkpoint Files/Model Building/ML X Dataset\", \"rb\"))\n",
    "Y_play = pkl.load(open(\"/Users/jaredzirkes/Desktop/Python/Non-Github/Project - MLB Simulation/Checkpoint Files/Model Building/ML Y Dataset(Plays)\", \"rb\"))\n",
    "Y_onbase = pkl.load(open(\"/Users/jaredzirkes/Desktop/Python/Non-Github/Project - MLB Simulation/Checkpoint Files/Model Building/ML Y Dataset (On Base)\", \"rb\"))"
   ]
  },
  {
   "cell_type": "code",
   "execution_count": 8,
   "id": "7dd5a2b6-c733-4bd4-8651-fc84c41062f4",
   "metadata": {},
   "outputs": [],
   "source": [
    "plays = [play for play in Y_play.value_counts().index]"
   ]
  },
  {
   "cell_type": "markdown",
   "id": "24633c10-8090-43b9-b60f-3f0653425617",
   "metadata": {
    "tags": []
   },
   "source": [
    "### Odds Functions"
   ]
  },
  {
   "cell_type": "code",
   "execution_count": 12,
   "id": "72a3e000-b62f-40c9-a2ce-9f2be6368c56",
   "metadata": {},
   "outputs": [],
   "source": [
    "def log5 (pB, pP, pL):\n",
    "    \"\"\" Given the probability of a PA outcome for the pitcher, the batter, and the overall league, calculate the\n",
    "    probability in that given at bat using the log5 equation. NOTE: DO NOT USE RIGHT NOW\"\"\" \n",
    "    one = (pB*pP)/pL\n",
    "    two = ((1-pB)*(1-pP))/(1-pL)\n",
    "    \n",
    "    return one/(one + two)\n",
    "\n",
    "\n",
    "def morey_z(pB, pP, pL):\n",
    "    \"\"\" Given the probability of a PA outcome for the pitcher, the batter, and the overall league, calculate the\n",
    "    probability in that given at bat using the Morey Z equation\"\"\"\n",
    "    one = (pB-pL)/np.sqrt(pL*(1-pL))\n",
    "    two = (pP-pL)/np.sqrt(pL*(1-pL))\n",
    "    three = np.sqrt(pL*(1-pL))\n",
    "    return ((one + two)/np.sqrt(2) * three) +pL\n",
    "\n",
    "def ab_play_percentages(batting_percentages, pitching_percentages, league_percentages, pitbat_combo, function):\n",
    "    \"\"\" Given a list of probabilities for all PA outcomes for the batter, the pitcher, and the league, along with\n",
    "    the pitbat combo, and the desired probability funtion, return a list of the probabilities for all PA outcomes \n",
    "    for the specific PA\"\"\"\n",
    "    \n",
    "    ab_percentages = {}\n",
    "    \n",
    "    # Get the specific percentages for each play type\n",
    "    for play in plays:\n",
    "        batting_percent = batting_percentages[\"b_\" + play]\n",
    "        pitching_percent = pitching_percentages[\"p_\" + play]\n",
    "        league_percent = league_percentages[pitbat_combo][play]\n",
    "        \n",
    "        # Ensure we are using one of the two acceptable prediction functions\n",
    "        if function not in [\"morey z\", \"Morey Z\", \"log5\", \"Log5\"]:\n",
    "            while funtion not in [\"morey z\", \"Morey Z\", \"log5\", \"Log5\"]:\n",
    "                function = input(\"Acceptable Functions are Morey Z and Log5. Please input one.\")\n",
    "        \n",
    "        # Calculate the predicted percentage for the specific play for the PA\n",
    "        if function == \"morey z\" or function == \"Morey Z\":\n",
    "            expected_percent = max(morey_z(batting_percent, pitching_percent, league_percent), 0.000001)\n",
    "        else:\n",
    "            expected_percent = log5(batting_percent, pitching_percent, league_percent)\n",
    "    \n",
    "        # Insert the predicted percentage for the play type into our dictionary for delivery\n",
    "        ab_percentages[play] = expected_percent\n",
    "        \n",
    "        # Get rid of negative and zero numbers and repercenage slightly if numbers are reset\n",
    "        ab_percentages = {key: value/sum(list(ab_percentages.values())) for key, value in ab_percentages.items()}\n",
    "    \n",
    "    return ab_percentages\n",
    "\n",
    "# League Average Guesser\n",
    "def average_guesser(batting_percentages, pitching_percentages, league_percentages, pitbat_combo):\n",
    "    ab_percentages = {}\n",
    "    \n",
    "    for play in plays:\n",
    "        league_percent = league_percentages[pitbat_combo][play]\n",
    "        ab_percentages[play] = league_percent\n",
    "        \n",
    "    ab_percentages = {key: value/sum(list(ab_percentages.values())) for key, value in ab_percentages.items()}\n",
    "    \n",
    "    return ab_percentages  \n",
    "        "
   ]
  },
  {
   "cell_type": "code",
   "execution_count": 13,
   "id": "5c6311d7-843b-480c-acfd-aad8dc4d57d0",
   "metadata": {},
   "outputs": [],
   "source": [
    "def log_loss(probabilities, actuals):\n",
    "    \"\"\" Given a list of probabilities and acuals for a series of instances, calculate and return the average log loss\"\"\"\n",
    "    log_loss = 0\n",
    "    yhat_probabilities = []\n",
    "    for instance in range(len(probabilities)):\n",
    "        yhat_probabilities.append(max([n for n in np.array(probabilities.iloc[instance])*np.array(actuals.iloc[instance])]))\n",
    "    log_loss -= sum([np.log10(x)for x in yhat_probabilities])\n",
    "\n",
    "\n",
    "    return log_loss/len(probabilities)"
   ]
  },
  {
   "cell_type": "code",
   "execution_count": 15,
   "id": "47a51353-f359-4999-93fc-29f0ed08da17",
   "metadata": {},
   "outputs": [],
   "source": [
    "#league_averages = pkl.load(open(\"league_averages.pkl\", \"rb\"))"
   ]
  },
  {
   "cell_type": "markdown",
   "id": "cfcb2a5b-a470-481e-a0a5-4781e569cd50",
   "metadata": {},
   "source": [
    "# ML Algorithms"
   ]
  },
  {
   "cell_type": "code",
   "execution_count": 16,
   "id": "ea2f2cf5-75a5-4401-acec-e962df463c11",
   "metadata": {},
   "outputs": [],
   "source": [
    "# x_train, x_test, y_train, y_test = train_test_split(ml_full_df, y_full, test_size=0.2, random_state=42)\n",
    "sss = StratifiedShuffleSplit(test_size=.2, random_state=42)\n",
    "for train_index, test_index in sss.split(X, Y_play):\n",
    "    x_train, x_test = X[train_index], X[test_index]\n",
    "    y_train, y_test = Y_play[train_index], Y_play[test_index]\n",
    "    y_train_onbase, y_test_onbase = Y_onbase[train_index], Y_onbase[test_index]"
   ]
  },
  {
   "cell_type": "code",
   "execution_count": 17,
   "id": "d7680046-a3ff-4529-a44c-5adda9add604",
   "metadata": {},
   "outputs": [],
   "source": [
    "def plot_model_error_on_n(model, n1, n2, model_name = \"The Model\", x_train=x_train, y_train=y_train):\n",
    "    score_dict = {}\n",
    "    for n in [x for x in range (n1,n2+1000) if x%1000==0]:\n",
    "        print(\"Training Model on {} Instances\".format(n))\n",
    "        score = cross_val_score(model, x_train[:n], y_train[:n], cv=5, scoring=\"neg_log_loss\", verbose=3, error_score=\"raise\")\n",
    "        score_dict[n] = -score.mean()\n",
    "        clear_output(wait=False)\n",
    "    plt.plot(score_dict.keys(), score_dict.values())\n",
    "    plt.title(\"{} Log Loss With Sample Size n\".format(model_name))"
   ]
  },
  {
   "cell_type": "markdown",
   "id": "35ddc797-50d7-47d2-826a-63460dee0682",
   "metadata": {},
   "source": [
    "## Poor Average Estimator"
   ]
  },
  {
   "cell_type": "code",
   "execution_count": 18,
   "id": "e81d1b2c-b70d-4931-8f3a-5ad183dfaa44",
   "metadata": {},
   "outputs": [
    {
     "name": "stdout",
     "output_type": "stream",
     "text": [
      "The Crappy Average Estimator for Predicting Plays Has a Neg Log Loss of: -1.75\n"
     ]
    }
   ],
   "source": [
    "dumb_log_loss_plays = 0\n",
    "league_averages_plays = {}\n",
    "for play in y_train.value_counts().index:\n",
    "    league_averages_plays[play] = len(y_train[y_train == play])/len(y_train)\n",
    "    dumb_log_loss_plays += len(y_train[y_train == play])/len(y_train)* np.log(len(y_train[y_train == play])/len(y_train))\n",
    "    \n",
    "    \n",
    "dumb_log_loss_onbase = 0\n",
    "league_averages_onbase = {}\n",
    "for play in y_train_onbase.value_counts().index:\n",
    "    league_averages_onbase[play] = len(y_train_onbase[y_train_onbase == play])/len(y_train_onbase)\n",
    "    dumb_log_loss_onbase += len(y_train_onbase[y_train_onbase == play])/len(y_train_onbase)* np.log(len(y_train_onbase[y_train_onbase == play])/len(y_train_onbase))\n",
    "    \n",
    "print(\"The Crappy Average Estimator for Predicting Plays Has a Neg Log Loss of: {}\".format(round(dumb_log_loss_plays,3)))\n",
    "#print(\"The Crappy Average Estimator for Predicting On Base Has a Neg Log Loss of: {}\".format(round(dumb_log_loss_onbase,3)))"
   ]
  },
  {
   "cell_type": "markdown",
   "id": "75af0e28-f924-4f08-8c26-cf1be1fc0b65",
   "metadata": {},
   "source": [
    "## Regressions"
   ]
  },
  {
   "cell_type": "markdown",
   "id": "b0271ef6-2b8d-4181-929d-7c69d1527728",
   "metadata": {},
   "source": [
    "### Basic Logistic Regresssion"
   ]
  },
  {
   "cell_type": "code",
   "execution_count": 19,
   "id": "b30b83a9-4bb0-452b-9f04-4f22387b4809",
   "metadata": {},
   "outputs": [
    {
     "name": "stdout",
     "output_type": "stream",
     "text": [
      "The Basic Logistic Regressor Has a Neg Log Loss of: -1.638\n"
     ]
    }
   ],
   "source": [
    "# Set up a logistic regression on the full x,y train datasets and check the baseline log_loss\n",
    "softmax = LogisticRegression(class_weight = None, max_iter=150)\n",
    "softmax_scores = cross_val_score(softmax, x_train[:], y_train[:], cv=5, scoring = \"neg_log_loss\", n_jobs=4)\n",
    "clear_output(wait=False)\n",
    "print(\"The Basic Logistic Regressor Has a Neg Log Loss of: {}\".format(round(softmax_scores.mean(),3)))"
   ]
  },
  {
   "cell_type": "code",
   "execution_count": 21,
   "id": "5be7f933-67ea-4506-a4eb-deb2e956adc3",
   "metadata": {},
   "outputs": [
    {
     "data": {
      "image/png": "[encoded data removed]",
      "text/plain": [
       "<Figure size 640x480 with 1 Axes>"
      ]
     },
     "metadata": {},
     "output_type": "display_data"
    }
   ],
   "source": [
    "# Check approx where softmax error starts to plateau based on n instances for cutting off grid search\n",
    "plot_model_error_on_n(softmax, 4000, 20000, \"Softmax\")"
   ]
  },
  {
   "cell_type": "markdown",
   "id": "cafa2f89-352c-489c-9fac-f373ac1b433c",
   "metadata": {},
   "source": [
    "### Grid Search Logistic Regression"
   ]
  },
  {
   "cell_type": "code",
   "execution_count": 50,
   "id": "fc027b90-8e79-4136-86cf-772dd4b3c151",
   "metadata": {},
   "outputs": [],
   "source": [
    "# Build a Dictionary of class weights to grid search on due to impalanced Dataset\n",
    "class_weights = list(y_train.value_counts().index)\n",
    "class_weights_list = []\n",
    "\n",
    "for n in range(10):\n",
    "    weights = np.random.rand(len(class_weights))\n",
    "    weights = weights/sum(weights)\n",
    "    weights = {class_weights[x]:weights[x] for x in range(len(class_weights))}\n",
    "    \n",
    "    class_weights_list.append(weights)\n",
    "class_weights.append(\"balanced\")\n",
    "    \n",
    "class_weights_list.append(None)"
   ]
  },
  {
   "cell_type": "code",
   "execution_count": 51,
   "id": "8df684ae-e15c-45f2-8464-b6a9fcdc963b",
   "metadata": {},
   "outputs": [],
   "source": [
    "# Build a parameter dictionary to grid search the logistic regression on \n",
    "parameters = {'C':np.linspace(0.001,1,7), \"class_weight\":class_weights_list, 'multi_class':[\"ovr\"], \"solver\":[\"saga\"]}\n",
    "\n",
    "grid_search = GridSearchCV(LogisticRegression(), parameters, cv=5, scoring = \"neg_log_loss\", verbose = 3, n_jobs = 4)\n",
    "grid_search.fit(x_train[:12500], y_train[:12500])\n",
    "clear_output(wait=False)"
   ]
  },
  {
   "cell_type": "code",
   "execution_count": 55,
   "id": "877be3bd-e2b0-461d-90c3-f747b9fd0d27",
   "metadata": {},
   "outputs": [
    {
     "name": "stdout",
     "output_type": "stream",
     "text": [
      "The Best Logistic Regressor Has a Neg Log Loss Of: -1.649\n",
      "The Best Logistic Regressor Has Parameters Of: {'C': 1.0, 'class_weight': None, 'multi_class': 'ovr', 'solver': 'saga'}\n"
     ]
    }
   ],
   "source": [
    "final_logistic_regressor = grid_search.best_estimator_\n",
    "print(\"The Best Logistic Regressor Has a Neg Log Loss Of: {}\".format(round(grid_search.best_score_.mean(), 3)))\n",
    "print(\"The Best Logistic Regressor Has Parameters Of: {}\".format(grid_search.best_params_))"
   ]
  },
  {
   "cell_type": "code",
   "execution_count": 58,
   "id": "cc090d0f-7cc4-4206-9af7-d89a63f4dd18",
   "metadata": {},
   "outputs": [
    {
     "name": "stdout",
     "output_type": "stream",
     "text": [
      "The Final Logistic Regressor Has a Neg Log Loss of: -1.62\n"
     ]
    }
   ],
   "source": [
    "# Because we grid searched for parameters on a smaller dataset, run the final estimator on the full dataset for a best score\n",
    "final_softmax_scores = cross_val_score(final_logistic_regressor, x_train[:], y_train[:], cv=5, scoring = \"neg_log_loss\", n_jobs=4)\n",
    "clear_output(wait=False)\n",
    "print(\"The Final Logistic Regressor Has a Neg Log Loss of: {}\".format(round(final_softmax_scores.mean(),3)))"
   ]
  },
  {
   "cell_type": "markdown",
   "id": "090f1e6a-44d7-4286-aa62-b7141c72e7ca",
   "metadata": {},
   "source": [
    "## K Neighbors Classifier"
   ]
  },
  {
   "cell_type": "markdown",
   "id": "d9d4ef11-bbba-4339-80ec-cf08ce4ab9fb",
   "metadata": {},
   "source": [
    "### Basic K Neighbors Classifier"
   ]
  },
  {
   "cell_type": "code",
   "execution_count": 22,
   "id": "000cb3d7-5acc-48a2-a76c-8658ec8d385b",
   "metadata": {},
   "outputs": [],
   "source": [
    "knc = KNeighborsClassifier(n_neighbors = 1000)"
   ]
  },
  {
   "cell_type": "code",
   "execution_count": 24,
   "id": "10c6d74f-2ab0-4322-b68f-bcfbf97006cd",
   "metadata": {},
   "outputs": [
    {
     "data": {
      "image/png": "[encoded data removed]",
      "text/plain": [
       "<Figure size 640x480 with 1 Axes>"
      ]
     },
     "metadata": {},
     "output_type": "display_data"
    }
   ],
   "source": [
    "# Check approx where KNC error starts to plateau based on n instances for cutting off grid search and understanding training timing\n",
    "plot_model_error_on_n(knc, 4000, 35000, \"K-Neighbors Classifier\")"
   ]
  },
  {
   "cell_type": "code",
   "execution_count": 25,
   "id": "52e01703-743a-43f5-8bcb-12b5239fa17d",
   "metadata": {},
   "outputs": [
    {
     "name": "stderr",
     "output_type": "stream",
     "text": [
      "[Parallel(n_jobs=4)]: Using backend LokyBackend with 4 concurrent workers.\n",
      "[Parallel(n_jobs=4)]: Done   2 out of   5 | elapsed:   17.9s remaining:   26.8s\n"
     ]
    },
    {
     "name": "stdout",
     "output_type": "stream",
     "text": [
      "The Basic kNeighbors Classifier Has a Neg Log Loss of: -1.716\n"
     ]
    },
    {
     "name": "stderr",
     "output_type": "stream",
     "text": [
      "[Parallel(n_jobs=4)]: Done   5 out of   5 | elapsed:   27.1s finished\n"
     ]
    },
    {
     "name": "stdout",
     "output_type": "stream",
     "text": [
      "[CV] END ............................... score: (test=-1.711) total time=  16.7s\n",
      "[CV] END ............................... score: (test=-1.717) total time=  17.0s\n",
      "[CV] END ............................... score: (test=-1.717) total time=  17.0s\n",
      "[CV] END ............................... score: (test=-1.720) total time=  16.1s\n",
      "[CV] END ............................... score: (test=-1.717) total time=   9.7s\n"
     ]
    }
   ],
   "source": [
    "knc_scores = cross_val_score(knc, x_train[:100000], y_train[:100000], cv=5, scoring = \"neg_log_loss\", n_jobs=4, verbose = 4)\n",
    "print(\"The Basic kNeighbors Classifier Has a Neg Log Loss of: {}\".format(round(knc_scores.mean(),3)))"
   ]
  },
  {
   "cell_type": "markdown",
   "id": "9c29f728-853c-4cfc-9bb0-92a678baed36",
   "metadata": {},
   "source": [
    "### Grid Search K Neighbors Classifier"
   ]
  },
  {
   "cell_type": "code",
   "execution_count": 83,
   "id": "e71d8dc3-cb7c-44d5-a496-416d69e78b12",
   "metadata": {},
   "outputs": [],
   "source": [
    "# Detail parameters for the K Neighbors Grid Search Below ### EXPAND THE GRID SEARCH\n",
    "n_neighbors_params = [round(x) for x in np.linspace(100, 3000, 10)]\n",
    "weights_params = [\"uniform\", \"distance\"]"
   ]
  },
  {
   "cell_type": "code",
   "execution_count": 85,
   "id": "bb9fdfbf-d4e4-43cb-801d-3cffdc87e313",
   "metadata": {},
   "outputs": [],
   "source": [
    "knc_parameters = {'n_neighbors':n_neighbors_params, \"weights\":weights_params}\n",
    "\n",
    "knc_grid_search = GridSearchCV(KNeighborsClassifier(), knc_parameters, cv=5, scoring = \"neg_log_loss\", verbose = 3, n_jobs=1)\n",
    "knc_grid_search.fit(x_train[:20000], y_train[:20000])\n",
    "clear_output(wait=False)"
   ]
  },
  {
   "cell_type": "code",
   "execution_count": 87,
   "id": "e79e3c21-31d5-46f5-a589-332f26ae5ae6",
   "metadata": {},
   "outputs": [
    {
     "name": "stdout",
     "output_type": "stream",
     "text": [
      "The Best K Neighbors Classifier Has a Neg Log Loss Of: -1.696\n",
      "The Best K Neighbors Classifier Has Parameters Of: {'n_neighbors': 1389, 'weights': 'distance'}\n"
     ]
    }
   ],
   "source": [
    "final_KNC_classifier = knc_grid_search.best_estimator_\n",
    "print(\"The Best K Neighbors Classifier Has a Neg Log Loss Of: {}\".format(round(knc_grid_search.best_score_.mean(), 3)))\n",
    "print(\"The Best K Neighbors Classifier Has Parameters Of: {}\".format(knc_grid_search.best_params_))"
   ]
  },
  {
   "cell_type": "code",
   "execution_count": 89,
   "id": "8664ce68-cb11-4133-888a-868ebb956261",
   "metadata": {},
   "outputs": [
    {
     "name": "stdout",
     "output_type": "stream",
     "text": [
      "The Final K-Neighbors Classifier Has a Neg Log Loss of: -1.687\n"
     ]
    }
   ],
   "source": [
    "# Because we grid searched for parameters on a smaller dataset, run the final estimator on a larger dataset for a best score\n",
    "final_KNC_scores = cross_val_score(final_KNC_classifier, x_train[:150000], y_train[:150000], cv=5, scoring = \"neg_log_loss\", n_jobs=4, verbose=3)\n",
    "clear_output(wait=False)\n",
    "print(\"The Final K-Neighbors Classifier Has a Neg Log Loss of: {}\".format(round(final_KNC_scores.mean(),3)))"
   ]
  },
  {
   "cell_type": "markdown",
   "id": "c44cecd6-7afb-43f2-a5d9-d45f6de9ed6e",
   "metadata": {},
   "source": [
    "## Random Forest Classifier"
   ]
  },
  {
   "cell_type": "markdown",
   "id": "af4c541f-e590-4ba4-bb08-623c1dc5cf98",
   "metadata": {},
   "source": [
    "### Basic Random Forest Classifier"
   ]
  },
  {
   "cell_type": "code",
   "execution_count": 91,
   "id": "2d2a82ef-3231-49ef-8ed5-e1be87a380a5",
   "metadata": {},
   "outputs": [],
   "source": [
    "rf_classifier = RandomForestClassifier(random_state=42)"
   ]
  },
  {
   "cell_type": "code",
   "execution_count": 93,
   "id": "db0af36d-143d-4795-9b7e-57f206900557",
   "metadata": {},
   "outputs": [
    {
     "data": {
      "image/png": "[encoded data removed]",
      "text/plain": [
       "<Figure size 432x288 with 1 Axes>"
      ]
     },
     "metadata": {
      "needs_background": "light"
     },
     "output_type": "display_data"
    }
   ],
   "source": [
    "# Check approx where KNC error starts to plateau based on n instances for cutting off grid search and understanding training timing\n",
    "plot_model_error_on_n(rf_classifier, 2000, 20000, \"Random Forest Classifier\")"
   ]
  },
  {
   "cell_type": "code",
   "execution_count": 94,
   "id": "7471a7a6-88b9-41db-a3d9-237811f2d919",
   "metadata": {},
   "outputs": [
    {
     "name": "stdout",
     "output_type": "stream",
     "text": [
      "The Basic Random Forest Classifier Has a Neg Log Loss of: -2.058\n"
     ]
    }
   ],
   "source": [
    "# Test the basic Random Forest Classifier for use as a baseline\n",
    "rf_scores = cross_val_score(rf_classifier, x_train[:50000], y_train[:50000], cv = 5, scoring = \"neg_log_loss\", verbose=4)\n",
    "print(\"The Basic Random Forest Classifier Has a Neg Log Loss of: {}\".format(round(rf_scores.mean(),3)))"
   ]
  },
  {
   "cell_type": "markdown",
   "id": "9caa3708-b682-4733-9971-04f0ac3f4718",
   "metadata": {},
   "source": [
    "### Grid Search for Random Forest Classifier"
   ]
  },
  {
   "cell_type": "code",
   "execution_count": 112,
   "id": "ad5af3cd-b71d-4bc5-8884-b09b53eb3731",
   "metadata": {},
   "outputs": [],
   "source": [
    "# Detail parameters for the Random Forest Grid Search\n",
    "estimators_params= [round(x) for x in np.linspace(600,2000,6)]\n",
    "criterion_params = [\"gini\", \"entropy\", \"log_loss\"]\n",
    "max_depth_params = [3, 4, 5]\n",
    "min_sample_leaf_params = [round(x) for x in np.linspace(1,100,4)]"
   ]
  },
  {
   "cell_type": "code",
   "execution_count": 99,
   "id": "01b318b7-d861-4c0a-9640-61c70f18cbc3",
   "metadata": {},
   "outputs": [],
   "source": [
    "# Build a parameter grid for the Random Forest Classifier, and run the grid search\n",
    "rf_parameters = {'n_estimators':estimators_params, \"criterion\":criterion_params, \"max_depth\":max_depth_params}\n",
    "\n",
    "rf_grid_search = GridSearchCV(RandomForestClassifier(random_state = 42), rf_parameters, cv=5, scoring = \"neg_log_loss\", verbose = 3)\n",
    "rf_grid_search.fit(x_train[:12000], y_train[:12000])\n",
    "clear_output(wait=False)"
   ]
  },
  {
   "cell_type": "code",
   "execution_count": 103,
   "id": "6cc0f94d-a1a2-4331-b767-bfa92836642e",
   "metadata": {},
   "outputs": [
    {
     "name": "stdout",
     "output_type": "stream",
     "text": [
      "The Best Random Forest Classifier Has a Neg Log Loss Of: -1.662\n",
      "The Best K Neighbors Classifier Has Parameters Of: {'criterion': 'entropy', 'max_depth': 5, 'n_estimators': 600}\n"
     ]
    }
   ],
   "source": [
    "# Print out grid search results\n",
    "final_RF_regressor_plays = rf_grid_search_plays.best_estimator_\n",
    "print(\"The Best Random Forest Classifier Has a Neg Log Loss Of: {}\".format(round(rf_grid_search.best_score_.mean(), 3)))\n",
    "print(\"The Best K Neighbors Classifier Has Parameters Of: {}\".format(rf_grid_search.best_params_))"
   ]
  },
  {
   "cell_type": "code",
   "execution_count": 122,
   "id": "fc070656-4010-46f7-9561-7136a7c3792c",
   "metadata": {},
   "outputs": [
    {
     "name": "stdout",
     "output_type": "stream",
     "text": [
      "The Random Forest Classifier With Boosted Estimators Has a Neg Log Loss of: -1.632\n"
     ]
    }
   ],
   "source": [
    "# Double check that a higher n_estimators is not warrented when using a larger sample size\n",
    "boosted_estimator_rf_scores = cross_val_score(RandomForestClassifier(random_state=42, n_estimators=600, criterion=\"entropy\", max_depth=11), x_train[:50000], y_train[:50000], cv=5, verbose=4, scoring=\"neg_log_loss\", n_jobs=4)\n",
    "clear_output(wait=False)\n",
    "print(\"The Random Forest Classifier With Boosted Estimators Has a Neg Log Loss of: {}\".format(round(boosted_estimator_rf_scores.mean(),3)))"
   ]
  },
  {
   "cell_type": "code",
   "execution_count": 124,
   "id": "49486a39-efff-4b2d-87b9-04fa5a2bf1a0",
   "metadata": {},
   "outputs": [],
   "source": [
    "final_rf_classifier = RandomForestClassifier(random_state=42, n_estimators=600, criterion=\"entropy\", max_depth=11)"
   ]
  },
  {
   "cell_type": "markdown",
   "id": "ac4719be-64c1-46bd-b3e5-c02b121afa72",
   "metadata": {},
   "source": [
    "## Histogram Based Gradient Boosting Classifier"
   ]
  },
  {
   "cell_type": "markdown",
   "id": "ffebcf95-5eba-4a36-b0aa-802a711fcc8a",
   "metadata": {},
   "source": [
    "Because of the testing limitations, we will also try a Histogram-based Gradient Boosting Classification Tree, which scales significantly better than the standard gradient boosting tree. It does not appear to support grid search however, so we will do that manually"
   ]
  },
  {
   "cell_type": "code",
   "execution_count": 127,
   "id": "89758efe-64fd-4b6f-94b4-328d183fee18",
   "metadata": {},
   "outputs": [
    {
     "data": {
      "image/png": "[encoded data removed]",
      "text/plain": [
       "<Figure size 432x288 with 1 Axes>"
      ]
     },
     "metadata": {
      "needs_background": "light"
     },
     "output_type": "display_data"
    }
   ],
   "source": [
    "# Check approx where HGB Classifier error starts to plateau based on n instances for cutting off grid search and understanding training timing\n",
    "plot_model_error_on_n(hgb_classifier, 2000, 20000, \"Gradient Boosting Classifier\")"
   ]
  },
  {
   "cell_type": "code",
   "execution_count": 130,
   "id": "cd1219bc-fa6b-4a89-b59d-766b44b9801a",
   "metadata": {},
   "outputs": [
    {
     "name": "stdout",
     "output_type": "stream",
     "text": [
      "The Basic Hist Gradient Boosted Classifier Has a Neg Log Loss of: -1.615\n"
     ]
    }
   ],
   "source": [
    "hgb_classifier_scores = cross_val_score(hgb_classifier, x_train[:], y_train[:], cv=5, scoring=\"neg_log_loss\", n_jobs = 4)\n",
    "print(\"The Basic Hist Gradient Boosted Classifier Has a Neg Log Loss of: {}\".format(round(hgb_classifier_scores.mean(),3)))"
   ]
  },
  {
   "cell_type": "code",
   "execution_count": 148,
   "id": "9c793e48-cd2e-45f0-8152-23c4b292a2c7",
   "metadata": {},
   "outputs": [],
   "source": [
    "iter_params = [100, 250, 500]\n",
    "max_depth_params = [5, None]\n",
    "\n",
    "all_param_lists = [iter_params, max_depth_params]\n",
    "\n",
    "hgbc_param_list = list(itertools.product(*all_param_lists))"
   ]
  },
  {
   "cell_type": "code",
   "execution_count": 149,
   "id": "8228515f-027e-41f0-bc67-bfb53c5d42c7",
   "metadata": {},
   "outputs": [],
   "source": [
    "# Grid Search for the Plays Model\n",
    "print(\"Grid Search For Plays\")\n",
    "\n",
    "best_score = -10000\n",
    "best_params = {}\n",
    "for tup in hgbc_param_list:\n",
    "    print(tup)\n",
    "    score = cross_val_score(HistGradientBoostingClassifier(max_iter=tup[0], max_depth = tup[1]), x_train[:], y_train[:], cv=5,\n",
    "                                                          n_jobs = 4, scoring=\"neg_log_loss\").mean()\n",
    "    \n",
    "    if score > best_score:\n",
    "        best_score = score\n",
    "        best_params = {\"max_iter\":tup[0], \"max_depth\":tup[1]}\n",
    "                            \n",
    "    clear_output(wait=False)"
   ]
  },
  {
   "cell_type": "code",
   "execution_count": 150,
   "id": "f7ea1894-ce92-4106-856b-49cea051a035",
   "metadata": {},
   "outputs": [
    {
     "name": "stdout",
     "output_type": "stream",
     "text": [
      "The Best Histogram-Based Gradient Boosted Classifier Has a Neg Log Loss Of: -1.593\n",
      "The Best Histogram-Based Gradient Boosted Classifier Has Parameters Of: {'max_iter': 500, 'max_depth': 5}\n"
     ]
    }
   ],
   "source": [
    "# Create a final HGB Classifier based on the results of the grid search and print the results\n",
    "final_hgb_classifier = HistGradientBoostingClassifier(max_iter=best_params[\"max_iter\"], max_depth = best_params[\"max_depth\"])\n",
    "print(\"The Best Histogram-Based Gradient Boosted Classifier Has a Neg Log Loss Of: {}\".format(round(best_score, 3)))\n",
    "print(\"The Best Histogram-Based Gradient Boosted Classifier Has Parameters Of: {}\".format(best_params))"
   ]
  },
  {
   "cell_type": "code",
   "execution_count": 158,
   "id": "541fb5cf-a9b9-4ed7-8f5c-5767427ab5a0",
   "metadata": {},
   "outputs": [
    {
     "name": "stdout",
     "output_type": "stream",
     "text": [
      "The Final Histogram Based Gradient Boosting Classifier Has a Neg Log Loss of: -1.595\n"
     ]
    }
   ],
   "source": [
    "# Because we grid searched for parameters on a smaller dataset, run the final estimator on a larger dataset for a best score\n",
    "final_hgb_classifier_scores = cross_val_score(final_hgb_classifier, x_train[:], y_train[:], cv=5, scoring = \"neg_log_loss\", n_jobs=4, verbose=3)\n",
    "clear_output(wait=False)\n",
    "print(\"The Final Histogram Based Gradient Boosting Classifier Has a Neg Log Loss of: {}\".format(round(final_hgb_classifier_scores.mean(),3)))"
   ]
  },
  {
   "cell_type": "markdown",
   "id": "da92f140-043d-4e64-afd5-4ae7c660377d",
   "metadata": {
    "tags": []
   },
   "source": [
    "## ADA Boost Classifier"
   ]
  },
  {
   "cell_type": "markdown",
   "id": "e443619b-60a6-455c-9593-0eb7030cd580",
   "metadata": {},
   "source": [
    "### Basic ADA Boost Classifier"
   ]
  },
  {
   "cell_type": "code",
   "execution_count": 159,
   "id": "42697215-0625-48e3-b826-d2cdb186740e",
   "metadata": {},
   "outputs": [],
   "source": [
    "abc = AdaBoostClassifier()"
   ]
  },
  {
   "cell_type": "code",
   "execution_count": 160,
   "id": "aab61102-8417-4dd2-a400-d0f9b598a525",
   "metadata": {},
   "outputs": [
    {
     "data": {
      "image/png": "[encoded data removed]",
      "text/plain": [
       "<Figure size 432x288 with 1 Axes>"
      ]
     },
     "metadata": {
      "needs_background": "light"
     },
     "output_type": "display_data"
    }
   ],
   "source": [
    "# Check approx where ADA Boost Classifier error starts to plateau based on n instances for cutting off grid search and understanding training timing\n",
    "plot_model_error_on_n(abc, 2000, 20000, \"ADA Boost Classifier\")"
   ]
  },
  {
   "cell_type": "code",
   "execution_count": 163,
   "id": "cd0e4650-b2db-4167-a101-ec4e8dd7907b",
   "metadata": {},
   "outputs": [
    {
     "name": "stdout",
     "output_type": "stream",
     "text": [
      "The Basic ADA Boost Classifier Has a Neg Log Loss of: -2.447\n"
     ]
    }
   ],
   "source": [
    "# Test the Basic ADA Boost Classifier to get a baseline score\n",
    "abc_scores = cross_val_score(abc, x_train[:], y_train[:], cv=5, scoring=\"neg_log_loss\", n_jobs = 4)\n",
    "print(\"The Basic ADA Boost Classifier Has a Neg Log Loss of: {}\".format(round(abc_scores.mean(),3)))"
   ]
  },
  {
   "cell_type": "markdown",
   "id": "2ab25115-2855-47b3-b8f3-e6e7a143e700",
   "metadata": {},
   "source": [
    "### Grid Search for ADA Boost Classifier"
   ]
  },
  {
   "cell_type": "code",
   "execution_count": 179,
   "id": "283f507d-3cc6-4783-b928-70e45da1e8cf",
   "metadata": {},
   "outputs": [],
   "source": [
    "# Build a parameter grid for searching with the ADA Boost Classifier\n",
    "weak_learner_params = [DecisionTreeClassifier(max_depth=x) for x in [1,2,None]]+ [LogisticRegression()]\n",
    "n_estimators_params = [8, 10, 12, 20]"
   ]
  },
  {
   "cell_type": "code",
   "execution_count": 180,
   "id": "25c98934-e363-4a1c-927e-23b8fecb0479",
   "metadata": {},
   "outputs": [],
   "source": [
    "# Run the grid search for the ADA Boost Classifier\n",
    "abc_parameters = {'n_estimators':n_estimators_params, \"base_estimator\":weak_learner_params}\n",
    "abc_grid_search = GridSearchCV(AdaBoostClassifier(), abc_parameters, cv=5, scoring = \"neg_log_loss\", verbose = 3)\n",
    "abc_grid_search.fit(x_train[:30000], y_train[:30000])\n",
    "clear_output(wait=False)"
   ]
  },
  {
   "cell_type": "code",
   "execution_count": 190,
   "id": "781e8c5f-8343-4637-9d5f-fe91a8e46be7",
   "metadata": {},
   "outputs": [
    {
     "name": "stdout",
     "output_type": "stream",
     "text": [
      "The Best Ada Boost Classifier Has a Neg Log Loss Of: -2.149\n",
      "The Best Ada Boost Classifier Has Parameters Of: {'base_estimator': DecisionTreeClassifier(max_depth=2), 'n_estimators': 8}\n"
     ]
    }
   ],
   "source": [
    "# Print grid search results for the ADA Boost Classifier\n",
    "final_abc_classifier = abc_grid_search.best_estimator_\n",
    "print(\"The Best Ada Boost Classifier Has a Neg Log Loss Of: {}\".format(round(abc_grid_search.best_score_, 3)))\n",
    "print(\"The Best Ada Boost Classifier Has Parameters Of: {}\".format(abc_grid_search.best_params_))"
   ]
  },
  {
   "cell_type": "code",
   "execution_count": 192,
   "id": "a8ffb5f9-ba7c-45de-88ab-c38b23f6d17c",
   "metadata": {},
   "outputs": [
    {
     "name": "stdout",
     "output_type": "stream",
     "text": [
      "The ADA Boost Classifier Has a Neg Log Loss of: -2.191\n"
     ]
    }
   ],
   "source": [
    "# Because the grid search was run on a smaller sample, test the best grid search model on a larger sample\n",
    "final_abc_scores = cross_val_score(final_abc_classifier, x_train[:], y_train[:], cv=5, scoring = \"neg_log_loss\", n_jobs=4, verbose=3)\n",
    "clear_output(wait=False)\n",
    "print(\"The ADA Boost Classifier Has a Neg Log Loss of: {}\".format(round(final_abc_scores.mean(),3)))"
   ]
  },
  {
   "cell_type": "markdown",
   "id": "95b76f21-3e64-4cb0-82ad-a31486ecacc2",
   "metadata": {},
   "source": [
    "## XGBoost Classifier"
   ]
  },
  {
   "cell_type": "code",
   "execution_count": 29,
   "id": "923ae406-d16e-4ff7-ab70-06812ea66071",
   "metadata": {},
   "outputs": [],
   "source": [
    "y_train_encoded = OrdinalEncoder().fit_transform(np.array(y_train).reshape(-1,1))\n",
    "y_train_encoded = [int(x[0]) for x in y_train_encoded]"
   ]
  },
  {
   "cell_type": "markdown",
   "id": "1ad0dc9e-c03d-4647-9a64-4d807fc0fa6f",
   "metadata": {},
   "source": [
    "### Basic XGBoost Classifier"
   ]
  },
  {
   "cell_type": "code",
   "execution_count": 30,
   "id": "3fa243bd-3c06-4013-993a-fcd6651a7ebd",
   "metadata": {},
   "outputs": [],
   "source": [
    "# Set up the base XGBoost Classifier\n",
    "xgb = XGBClassifier()"
   ]
  },
  {
   "cell_type": "code",
   "execution_count": 31,
   "id": "dfe4a1e1-2992-4de6-8841-26e771c3ca9d",
   "metadata": {},
   "outputs": [
    {
     "name": "stdout",
     "output_type": "stream",
     "text": [
      "Training Model on 2000 Instances\n",
      "[CV] END ............................... score: (test=-2.264) total time=   1.6s\n",
      "[CV] END ............................... score: (test=-2.144) total time=   1.6s\n",
      "[CV] END ............................... score: (test=-2.235) total time=   1.6s\n"
     ]
    },
    {
     "ename": "ValueError",
     "evalue": "y_true and y_pred contain different number of classes 12, 13. Please provide the true labels explicitly through the labels argument. Classes found in y_true: [ 0  1  2  3  4  5  7  8  9 10 11 12]",
     "output_type": "error",
     "traceback": [
      "\u001b[0;31m---------------------------------------------------------------------------\u001b[0m",
      "\u001b[0;31mValueError\u001b[0m                                Traceback (most recent call last)",
      "Cell \u001b[0;32mIn[31], line 2\u001b[0m\n\u001b[1;32m      1\u001b[0m \u001b[38;5;66;03m# Check approx where XGBoost Classifier error starts to plateau based on n instances for cutting off grid search and understanding training timing\u001b[39;00m\n\u001b[0;32m----> 2\u001b[0m \u001b[43mplot_model_error_on_n\u001b[49m\u001b[43m(\u001b[49m\u001b[43mxgb\u001b[49m\u001b[43m,\u001b[49m\u001b[43m \u001b[49m\u001b[38;5;241;43m2000\u001b[39;49m\u001b[43m,\u001b[49m\u001b[43m \u001b[49m\u001b[38;5;241;43m20000\u001b[39;49m\u001b[43m,\u001b[49m\u001b[43m \u001b[49m\u001b[38;5;124;43m\"\u001b[39;49m\u001b[38;5;124;43mXGBoost Classifier\u001b[39;49m\u001b[38;5;124;43m\"\u001b[39;49m\u001b[43m,\u001b[49m\u001b[43m \u001b[49m\u001b[43my_train\u001b[49m\u001b[38;5;241;43m=\u001b[39;49m\u001b[43my_train_encoded\u001b[49m\u001b[43m)\u001b[49m\n",
      "Cell \u001b[0;32mIn[17], line 5\u001b[0m, in \u001b[0;36mplot_model_error_on_n\u001b[0;34m(model, n1, n2, model_name, x_train, y_train)\u001b[0m\n\u001b[1;32m      3\u001b[0m \u001b[38;5;28;01mfor\u001b[39;00m n \u001b[38;5;129;01min\u001b[39;00m [x \u001b[38;5;28;01mfor\u001b[39;00m x \u001b[38;5;129;01min\u001b[39;00m \u001b[38;5;28mrange\u001b[39m (n1,n2\u001b[38;5;241m+\u001b[39m\u001b[38;5;241m1000\u001b[39m) \u001b[38;5;28;01mif\u001b[39;00m x\u001b[38;5;241m%\u001b[39m\u001b[38;5;241m1000\u001b[39m\u001b[38;5;241m==\u001b[39m\u001b[38;5;241m0\u001b[39m]:\n\u001b[1;32m      4\u001b[0m     \u001b[38;5;28mprint\u001b[39m(\u001b[38;5;124m\"\u001b[39m\u001b[38;5;124mTraining Model on \u001b[39m\u001b[38;5;132;01m{}\u001b[39;00m\u001b[38;5;124m Instances\u001b[39m\u001b[38;5;124m\"\u001b[39m\u001b[38;5;241m.\u001b[39mformat(n))\n\u001b[0;32m----> 5\u001b[0m     score \u001b[38;5;241m=\u001b[39m \u001b[43mcross_val_score\u001b[49m\u001b[43m(\u001b[49m\u001b[43mmodel\u001b[49m\u001b[43m,\u001b[49m\u001b[43m \u001b[49m\u001b[43mx_train\u001b[49m\u001b[43m[\u001b[49m\u001b[43m:\u001b[49m\u001b[43mn\u001b[49m\u001b[43m]\u001b[49m\u001b[43m,\u001b[49m\u001b[43m \u001b[49m\u001b[43my_train\u001b[49m\u001b[43m[\u001b[49m\u001b[43m:\u001b[49m\u001b[43mn\u001b[49m\u001b[43m]\u001b[49m\u001b[43m,\u001b[49m\u001b[43m \u001b[49m\u001b[43mcv\u001b[49m\u001b[38;5;241;43m=\u001b[39;49m\u001b[38;5;241;43m5\u001b[39;49m\u001b[43m,\u001b[49m\u001b[43m \u001b[49m\u001b[43mscoring\u001b[49m\u001b[38;5;241;43m=\u001b[39;49m\u001b[38;5;124;43m\"\u001b[39;49m\u001b[38;5;124;43mneg_log_loss\u001b[39;49m\u001b[38;5;124;43m\"\u001b[39;49m\u001b[43m,\u001b[49m\u001b[43m \u001b[49m\u001b[43mverbose\u001b[49m\u001b[38;5;241;43m=\u001b[39;49m\u001b[38;5;241;43m3\u001b[39;49m\u001b[43m,\u001b[49m\u001b[43m \u001b[49m\u001b[43merror_score\u001b[49m\u001b[38;5;241;43m=\u001b[39;49m\u001b[38;5;124;43m\"\u001b[39;49m\u001b[38;5;124;43mraise\u001b[39;49m\u001b[38;5;124;43m\"\u001b[39;49m\u001b[43m)\u001b[49m\n\u001b[1;32m      6\u001b[0m     score_dict[n] \u001b[38;5;241m=\u001b[39m \u001b[38;5;241m-\u001b[39mscore\u001b[38;5;241m.\u001b[39mmean()\n\u001b[1;32m      7\u001b[0m     clear_output(wait\u001b[38;5;241m=\u001b[39m\u001b[38;5;28;01mFalse\u001b[39;00m)\n",
      "File \u001b[0;32m~/pyvenv/lib/python3.10/site-packages/sklearn/utils/_param_validation.py:213\u001b[0m, in \u001b[0;36mvalidate_params.<locals>.decorator.<locals>.wrapper\u001b[0;34m(*args, **kwargs)\u001b[0m\n\u001b[1;32m    207\u001b[0m \u001b[38;5;28;01mtry\u001b[39;00m:\n\u001b[1;32m    208\u001b[0m     \u001b[38;5;28;01mwith\u001b[39;00m config_context(\n\u001b[1;32m    209\u001b[0m         skip_parameter_validation\u001b[38;5;241m=\u001b[39m(\n\u001b[1;32m    210\u001b[0m             prefer_skip_nested_validation \u001b[38;5;129;01mor\u001b[39;00m global_skip_validation\n\u001b[1;32m    211\u001b[0m         )\n\u001b[1;32m    212\u001b[0m     ):\n\u001b[0;32m--> 213\u001b[0m         \u001b[38;5;28;01mreturn\u001b[39;00m \u001b[43mfunc\u001b[49m\u001b[43m(\u001b[49m\u001b[38;5;241;43m*\u001b[39;49m\u001b[43margs\u001b[49m\u001b[43m,\u001b[49m\u001b[43m \u001b[49m\u001b[38;5;241;43m*\u001b[39;49m\u001b[38;5;241;43m*\u001b[39;49m\u001b[43mkwargs\u001b[49m\u001b[43m)\u001b[49m\n\u001b[1;32m    214\u001b[0m \u001b[38;5;28;01mexcept\u001b[39;00m InvalidParameterError \u001b[38;5;28;01mas\u001b[39;00m e:\n\u001b[1;32m    215\u001b[0m     \u001b[38;5;66;03m# When the function is just a wrapper around an estimator, we allow\u001b[39;00m\n\u001b[1;32m    216\u001b[0m     \u001b[38;5;66;03m# the function to delegate validation to the estimator, but we replace\u001b[39;00m\n\u001b[1;32m    217\u001b[0m     \u001b[38;5;66;03m# the name of the estimator by the name of the function in the error\u001b[39;00m\n\u001b[1;32m    218\u001b[0m     \u001b[38;5;66;03m# message to avoid confusion.\u001b[39;00m\n\u001b[1;32m    219\u001b[0m     msg \u001b[38;5;241m=\u001b[39m re\u001b[38;5;241m.\u001b[39msub(\n\u001b[1;32m    220\u001b[0m         \u001b[38;5;124mr\u001b[39m\u001b[38;5;124m\"\u001b[39m\u001b[38;5;124mparameter of \u001b[39m\u001b[38;5;124m\\\u001b[39m\u001b[38;5;124mw+ must be\u001b[39m\u001b[38;5;124m\"\u001b[39m,\n\u001b[1;32m    221\u001b[0m         \u001b[38;5;124mf\u001b[39m\u001b[38;5;124m\"\u001b[39m\u001b[38;5;124mparameter of \u001b[39m\u001b[38;5;132;01m{\u001b[39;00mfunc\u001b[38;5;241m.\u001b[39m\u001b[38;5;18m__qualname__\u001b[39m\u001b[38;5;132;01m}\u001b[39;00m\u001b[38;5;124m must be\u001b[39m\u001b[38;5;124m\"\u001b[39m,\n\u001b[1;32m    222\u001b[0m         \u001b[38;5;28mstr\u001b[39m(e),\n\u001b[1;32m    223\u001b[0m     )\n",
      "File \u001b[0;32m~/pyvenv/lib/python3.10/site-packages/sklearn/model_selection/_validation.py:712\u001b[0m, in \u001b[0;36mcross_val_score\u001b[0;34m(estimator, X, y, groups, scoring, cv, n_jobs, verbose, fit_params, params, pre_dispatch, error_score)\u001b[0m\n\u001b[1;32m    709\u001b[0m \u001b[38;5;66;03m# To ensure multimetric format is not supported\u001b[39;00m\n\u001b[1;32m    710\u001b[0m scorer \u001b[38;5;241m=\u001b[39m check_scoring(estimator, scoring\u001b[38;5;241m=\u001b[39mscoring)\n\u001b[0;32m--> 712\u001b[0m cv_results \u001b[38;5;241m=\u001b[39m \u001b[43mcross_validate\u001b[49m\u001b[43m(\u001b[49m\n\u001b[1;32m    713\u001b[0m \u001b[43m    \u001b[49m\u001b[43mestimator\u001b[49m\u001b[38;5;241;43m=\u001b[39;49m\u001b[43mestimator\u001b[49m\u001b[43m,\u001b[49m\n\u001b[1;32m    714\u001b[0m \u001b[43m    \u001b[49m\u001b[43mX\u001b[49m\u001b[38;5;241;43m=\u001b[39;49m\u001b[43mX\u001b[49m\u001b[43m,\u001b[49m\n\u001b[1;32m    715\u001b[0m \u001b[43m    \u001b[49m\u001b[43my\u001b[49m\u001b[38;5;241;43m=\u001b[39;49m\u001b[43my\u001b[49m\u001b[43m,\u001b[49m\n\u001b[1;32m    716\u001b[0m \u001b[43m    \u001b[49m\u001b[43mgroups\u001b[49m\u001b[38;5;241;43m=\u001b[39;49m\u001b[43mgroups\u001b[49m\u001b[43m,\u001b[49m\n\u001b[1;32m    717\u001b[0m \u001b[43m    \u001b[49m\u001b[43mscoring\u001b[49m\u001b[38;5;241;43m=\u001b[39;49m\u001b[43m{\u001b[49m\u001b[38;5;124;43m\"\u001b[39;49m\u001b[38;5;124;43mscore\u001b[39;49m\u001b[38;5;124;43m\"\u001b[39;49m\u001b[43m:\u001b[49m\u001b[43m \u001b[49m\u001b[43mscorer\u001b[49m\u001b[43m}\u001b[49m\u001b[43m,\u001b[49m\n\u001b[1;32m    718\u001b[0m \u001b[43m    \u001b[49m\u001b[43mcv\u001b[49m\u001b[38;5;241;43m=\u001b[39;49m\u001b[43mcv\u001b[49m\u001b[43m,\u001b[49m\n\u001b[1;32m    719\u001b[0m \u001b[43m    \u001b[49m\u001b[43mn_jobs\u001b[49m\u001b[38;5;241;43m=\u001b[39;49m\u001b[43mn_jobs\u001b[49m\u001b[43m,\u001b[49m\n\u001b[1;32m    720\u001b[0m \u001b[43m    \u001b[49m\u001b[43mverbose\u001b[49m\u001b[38;5;241;43m=\u001b[39;49m\u001b[43mverbose\u001b[49m\u001b[43m,\u001b[49m\n\u001b[1;32m    721\u001b[0m \u001b[43m    \u001b[49m\u001b[43mfit_params\u001b[49m\u001b[38;5;241;43m=\u001b[39;49m\u001b[43mfit_params\u001b[49m\u001b[43m,\u001b[49m\n\u001b[1;32m    722\u001b[0m \u001b[43m    \u001b[49m\u001b[43mparams\u001b[49m\u001b[38;5;241;43m=\u001b[39;49m\u001b[43mparams\u001b[49m\u001b[43m,\u001b[49m\n\u001b[1;32m    723\u001b[0m \u001b[43m    \u001b[49m\u001b[43mpre_dispatch\u001b[49m\u001b[38;5;241;43m=\u001b[39;49m\u001b[43mpre_dispatch\u001b[49m\u001b[43m,\u001b[49m\n\u001b[1;32m    724\u001b[0m \u001b[43m    \u001b[49m\u001b[43merror_score\u001b[49m\u001b[38;5;241;43m=\u001b[39;49m\u001b[43merror_score\u001b[49m\u001b[43m,\u001b[49m\n\u001b[1;32m    725\u001b[0m \u001b[43m\u001b[49m\u001b[43m)\u001b[49m\n\u001b[1;32m    726\u001b[0m \u001b[38;5;28;01mreturn\u001b[39;00m cv_results[\u001b[38;5;124m\"\u001b[39m\u001b[38;5;124mtest_score\u001b[39m\u001b[38;5;124m\"\u001b[39m]\n",
      "File \u001b[0;32m~/pyvenv/lib/python3.10/site-packages/sklearn/utils/_param_validation.py:213\u001b[0m, in \u001b[0;36mvalidate_params.<locals>.decorator.<locals>.wrapper\u001b[0;34m(*args, **kwargs)\u001b[0m\n\u001b[1;32m    207\u001b[0m \u001b[38;5;28;01mtry\u001b[39;00m:\n\u001b[1;32m    208\u001b[0m     \u001b[38;5;28;01mwith\u001b[39;00m config_context(\n\u001b[1;32m    209\u001b[0m         skip_parameter_validation\u001b[38;5;241m=\u001b[39m(\n\u001b[1;32m    210\u001b[0m             prefer_skip_nested_validation \u001b[38;5;129;01mor\u001b[39;00m global_skip_validation\n\u001b[1;32m    211\u001b[0m         )\n\u001b[1;32m    212\u001b[0m     ):\n\u001b[0;32m--> 213\u001b[0m         \u001b[38;5;28;01mreturn\u001b[39;00m \u001b[43mfunc\u001b[49m\u001b[43m(\u001b[49m\u001b[38;5;241;43m*\u001b[39;49m\u001b[43margs\u001b[49m\u001b[43m,\u001b[49m\u001b[43m \u001b[49m\u001b[38;5;241;43m*\u001b[39;49m\u001b[38;5;241;43m*\u001b[39;49m\u001b[43mkwargs\u001b[49m\u001b[43m)\u001b[49m\n\u001b[1;32m    214\u001b[0m \u001b[38;5;28;01mexcept\u001b[39;00m InvalidParameterError \u001b[38;5;28;01mas\u001b[39;00m e:\n\u001b[1;32m    215\u001b[0m     \u001b[38;5;66;03m# When the function is just a wrapper around an estimator, we allow\u001b[39;00m\n\u001b[1;32m    216\u001b[0m     \u001b[38;5;66;03m# the function to delegate validation to the estimator, but we replace\u001b[39;00m\n\u001b[1;32m    217\u001b[0m     \u001b[38;5;66;03m# the name of the estimator by the name of the function in the error\u001b[39;00m\n\u001b[1;32m    218\u001b[0m     \u001b[38;5;66;03m# message to avoid confusion.\u001b[39;00m\n\u001b[1;32m    219\u001b[0m     msg \u001b[38;5;241m=\u001b[39m re\u001b[38;5;241m.\u001b[39msub(\n\u001b[1;32m    220\u001b[0m         \u001b[38;5;124mr\u001b[39m\u001b[38;5;124m\"\u001b[39m\u001b[38;5;124mparameter of \u001b[39m\u001b[38;5;124m\\\u001b[39m\u001b[38;5;124mw+ must be\u001b[39m\u001b[38;5;124m\"\u001b[39m,\n\u001b[1;32m    221\u001b[0m         \u001b[38;5;124mf\u001b[39m\u001b[38;5;124m\"\u001b[39m\u001b[38;5;124mparameter of \u001b[39m\u001b[38;5;132;01m{\u001b[39;00mfunc\u001b[38;5;241m.\u001b[39m\u001b[38;5;18m__qualname__\u001b[39m\u001b[38;5;132;01m}\u001b[39;00m\u001b[38;5;124m must be\u001b[39m\u001b[38;5;124m\"\u001b[39m,\n\u001b[1;32m    222\u001b[0m         \u001b[38;5;28mstr\u001b[39m(e),\n\u001b[1;32m    223\u001b[0m     )\n",
      "File \u001b[0;32m~/pyvenv/lib/python3.10/site-packages/sklearn/model_selection/_validation.py:423\u001b[0m, in \u001b[0;36mcross_validate\u001b[0;34m(estimator, X, y, groups, scoring, cv, n_jobs, verbose, fit_params, params, pre_dispatch, return_train_score, return_estimator, return_indices, error_score)\u001b[0m\n\u001b[1;32m    420\u001b[0m \u001b[38;5;66;03m# We clone the estimator to make sure that all the folds are\u001b[39;00m\n\u001b[1;32m    421\u001b[0m \u001b[38;5;66;03m# independent, and that it is pickle-able.\u001b[39;00m\n\u001b[1;32m    422\u001b[0m parallel \u001b[38;5;241m=\u001b[39m Parallel(n_jobs\u001b[38;5;241m=\u001b[39mn_jobs, verbose\u001b[38;5;241m=\u001b[39mverbose, pre_dispatch\u001b[38;5;241m=\u001b[39mpre_dispatch)\n\u001b[0;32m--> 423\u001b[0m results \u001b[38;5;241m=\u001b[39m \u001b[43mparallel\u001b[49m\u001b[43m(\u001b[49m\n\u001b[1;32m    424\u001b[0m \u001b[43m    \u001b[49m\u001b[43mdelayed\u001b[49m\u001b[43m(\u001b[49m\u001b[43m_fit_and_score\u001b[49m\u001b[43m)\u001b[49m\u001b[43m(\u001b[49m\n\u001b[1;32m    425\u001b[0m \u001b[43m        \u001b[49m\u001b[43mclone\u001b[49m\u001b[43m(\u001b[49m\u001b[43mestimator\u001b[49m\u001b[43m)\u001b[49m\u001b[43m,\u001b[49m\n\u001b[1;32m    426\u001b[0m \u001b[43m        \u001b[49m\u001b[43mX\u001b[49m\u001b[43m,\u001b[49m\n\u001b[1;32m    427\u001b[0m \u001b[43m        \u001b[49m\u001b[43my\u001b[49m\u001b[43m,\u001b[49m\n\u001b[1;32m    428\u001b[0m \u001b[43m        \u001b[49m\u001b[43mscorer\u001b[49m\u001b[38;5;241;43m=\u001b[39;49m\u001b[43mscorers\u001b[49m\u001b[43m,\u001b[49m\n\u001b[1;32m    429\u001b[0m \u001b[43m        \u001b[49m\u001b[43mtrain\u001b[49m\u001b[38;5;241;43m=\u001b[39;49m\u001b[43mtrain\u001b[49m\u001b[43m,\u001b[49m\n\u001b[1;32m    430\u001b[0m \u001b[43m        \u001b[49m\u001b[43mtest\u001b[49m\u001b[38;5;241;43m=\u001b[39;49m\u001b[43mtest\u001b[49m\u001b[43m,\u001b[49m\n\u001b[1;32m    431\u001b[0m \u001b[43m        \u001b[49m\u001b[43mverbose\u001b[49m\u001b[38;5;241;43m=\u001b[39;49m\u001b[43mverbose\u001b[49m\u001b[43m,\u001b[49m\n\u001b[1;32m    432\u001b[0m \u001b[43m        \u001b[49m\u001b[43mparameters\u001b[49m\u001b[38;5;241;43m=\u001b[39;49m\u001b[38;5;28;43;01mNone\u001b[39;49;00m\u001b[43m,\u001b[49m\n\u001b[1;32m    433\u001b[0m \u001b[43m        \u001b[49m\u001b[43mfit_params\u001b[49m\u001b[38;5;241;43m=\u001b[39;49m\u001b[43mrouted_params\u001b[49m\u001b[38;5;241;43m.\u001b[39;49m\u001b[43mestimator\u001b[49m\u001b[38;5;241;43m.\u001b[39;49m\u001b[43mfit\u001b[49m\u001b[43m,\u001b[49m\n\u001b[1;32m    434\u001b[0m \u001b[43m        \u001b[49m\u001b[43mscore_params\u001b[49m\u001b[38;5;241;43m=\u001b[39;49m\u001b[43mrouted_params\u001b[49m\u001b[38;5;241;43m.\u001b[39;49m\u001b[43mscorer\u001b[49m\u001b[38;5;241;43m.\u001b[39;49m\u001b[43mscore\u001b[49m\u001b[43m,\u001b[49m\n\u001b[1;32m    435\u001b[0m \u001b[43m        \u001b[49m\u001b[43mreturn_train_score\u001b[49m\u001b[38;5;241;43m=\u001b[39;49m\u001b[43mreturn_train_score\u001b[49m\u001b[43m,\u001b[49m\n\u001b[1;32m    436\u001b[0m \u001b[43m        \u001b[49m\u001b[43mreturn_times\u001b[49m\u001b[38;5;241;43m=\u001b[39;49m\u001b[38;5;28;43;01mTrue\u001b[39;49;00m\u001b[43m,\u001b[49m\n\u001b[1;32m    437\u001b[0m \u001b[43m        \u001b[49m\u001b[43mreturn_estimator\u001b[49m\u001b[38;5;241;43m=\u001b[39;49m\u001b[43mreturn_estimator\u001b[49m\u001b[43m,\u001b[49m\n\u001b[1;32m    438\u001b[0m \u001b[43m        \u001b[49m\u001b[43merror_score\u001b[49m\u001b[38;5;241;43m=\u001b[39;49m\u001b[43merror_score\u001b[49m\u001b[43m,\u001b[49m\n\u001b[1;32m    439\u001b[0m \u001b[43m    \u001b[49m\u001b[43m)\u001b[49m\n\u001b[1;32m    440\u001b[0m \u001b[43m    \u001b[49m\u001b[38;5;28;43;01mfor\u001b[39;49;00m\u001b[43m \u001b[49m\u001b[43mtrain\u001b[49m\u001b[43m,\u001b[49m\u001b[43m \u001b[49m\u001b[43mtest\u001b[49m\u001b[43m \u001b[49m\u001b[38;5;129;43;01min\u001b[39;49;00m\u001b[43m \u001b[49m\u001b[43mindices\u001b[49m\n\u001b[1;32m    441\u001b[0m \u001b[43m\u001b[49m\u001b[43m)\u001b[49m\n\u001b[1;32m    443\u001b[0m _warn_or_raise_about_fit_failures(results, error_score)\n\u001b[1;32m    445\u001b[0m \u001b[38;5;66;03m# For callable scoring, the return type is only know after calling. If the\u001b[39;00m\n\u001b[1;32m    446\u001b[0m \u001b[38;5;66;03m# return type is a dictionary, the error scores can now be inserted with\u001b[39;00m\n\u001b[1;32m    447\u001b[0m \u001b[38;5;66;03m# the correct key.\u001b[39;00m\n",
      "File \u001b[0;32m~/pyvenv/lib/python3.10/site-packages/sklearn/utils/parallel.py:67\u001b[0m, in \u001b[0;36mParallel.__call__\u001b[0;34m(self, iterable)\u001b[0m\n\u001b[1;32m     62\u001b[0m config \u001b[38;5;241m=\u001b[39m get_config()\n\u001b[1;32m     63\u001b[0m iterable_with_config \u001b[38;5;241m=\u001b[39m (\n\u001b[1;32m     64\u001b[0m     (_with_config(delayed_func, config), args, kwargs)\n\u001b[1;32m     65\u001b[0m     \u001b[38;5;28;01mfor\u001b[39;00m delayed_func, args, kwargs \u001b[38;5;129;01min\u001b[39;00m iterable\n\u001b[1;32m     66\u001b[0m )\n\u001b[0;32m---> 67\u001b[0m \u001b[38;5;28;01mreturn\u001b[39;00m \u001b[38;5;28;43msuper\u001b[39;49m\u001b[43m(\u001b[49m\u001b[43m)\u001b[49m\u001b[38;5;241;43m.\u001b[39;49m\u001b[38;5;21;43m__call__\u001b[39;49m\u001b[43m(\u001b[49m\u001b[43miterable_with_config\u001b[49m\u001b[43m)\u001b[49m\n",
      "File \u001b[0;32m~/pyvenv/lib/python3.10/site-packages/joblib/parallel.py:1918\u001b[0m, in \u001b[0;36mParallel.__call__\u001b[0;34m(self, iterable)\u001b[0m\n\u001b[1;32m   1916\u001b[0m     output \u001b[38;5;241m=\u001b[39m \u001b[38;5;28mself\u001b[39m\u001b[38;5;241m.\u001b[39m_get_sequential_output(iterable)\n\u001b[1;32m   1917\u001b[0m     \u001b[38;5;28mnext\u001b[39m(output)\n\u001b[0;32m-> 1918\u001b[0m     \u001b[38;5;28;01mreturn\u001b[39;00m output \u001b[38;5;28;01mif\u001b[39;00m \u001b[38;5;28mself\u001b[39m\u001b[38;5;241m.\u001b[39mreturn_generator \u001b[38;5;28;01melse\u001b[39;00m \u001b[38;5;28;43mlist\u001b[39;49m\u001b[43m(\u001b[49m\u001b[43moutput\u001b[49m\u001b[43m)\u001b[49m\n\u001b[1;32m   1920\u001b[0m \u001b[38;5;66;03m# Let's create an ID that uniquely identifies the current call. If the\u001b[39;00m\n\u001b[1;32m   1921\u001b[0m \u001b[38;5;66;03m# call is interrupted early and that the same instance is immediately\u001b[39;00m\n\u001b[1;32m   1922\u001b[0m \u001b[38;5;66;03m# re-used, this id will be used to prevent workers that were\u001b[39;00m\n\u001b[1;32m   1923\u001b[0m \u001b[38;5;66;03m# concurrently finalizing a task from the previous call to run the\u001b[39;00m\n\u001b[1;32m   1924\u001b[0m \u001b[38;5;66;03m# callback.\u001b[39;00m\n\u001b[1;32m   1925\u001b[0m \u001b[38;5;28;01mwith\u001b[39;00m \u001b[38;5;28mself\u001b[39m\u001b[38;5;241m.\u001b[39m_lock:\n",
      "File \u001b[0;32m~/pyvenv/lib/python3.10/site-packages/joblib/parallel.py:1847\u001b[0m, in \u001b[0;36mParallel._get_sequential_output\u001b[0;34m(self, iterable)\u001b[0m\n\u001b[1;32m   1845\u001b[0m \u001b[38;5;28mself\u001b[39m\u001b[38;5;241m.\u001b[39mn_dispatched_batches \u001b[38;5;241m+\u001b[39m\u001b[38;5;241m=\u001b[39m \u001b[38;5;241m1\u001b[39m\n\u001b[1;32m   1846\u001b[0m \u001b[38;5;28mself\u001b[39m\u001b[38;5;241m.\u001b[39mn_dispatched_tasks \u001b[38;5;241m+\u001b[39m\u001b[38;5;241m=\u001b[39m \u001b[38;5;241m1\u001b[39m\n\u001b[0;32m-> 1847\u001b[0m res \u001b[38;5;241m=\u001b[39m \u001b[43mfunc\u001b[49m\u001b[43m(\u001b[49m\u001b[38;5;241;43m*\u001b[39;49m\u001b[43margs\u001b[49m\u001b[43m,\u001b[49m\u001b[43m \u001b[49m\u001b[38;5;241;43m*\u001b[39;49m\u001b[38;5;241;43m*\u001b[39;49m\u001b[43mkwargs\u001b[49m\u001b[43m)\u001b[49m\n\u001b[1;32m   1848\u001b[0m \u001b[38;5;28mself\u001b[39m\u001b[38;5;241m.\u001b[39mn_completed_tasks \u001b[38;5;241m+\u001b[39m\u001b[38;5;241m=\u001b[39m \u001b[38;5;241m1\u001b[39m\n\u001b[1;32m   1849\u001b[0m \u001b[38;5;28mself\u001b[39m\u001b[38;5;241m.\u001b[39mprint_progress()\n",
      "File \u001b[0;32m~/pyvenv/lib/python3.10/site-packages/sklearn/utils/parallel.py:129\u001b[0m, in \u001b[0;36m_FuncWrapper.__call__\u001b[0;34m(self, *args, **kwargs)\u001b[0m\n\u001b[1;32m    127\u001b[0m     config \u001b[38;5;241m=\u001b[39m {}\n\u001b[1;32m    128\u001b[0m \u001b[38;5;28;01mwith\u001b[39;00m config_context(\u001b[38;5;241m*\u001b[39m\u001b[38;5;241m*\u001b[39mconfig):\n\u001b[0;32m--> 129\u001b[0m     \u001b[38;5;28;01mreturn\u001b[39;00m \u001b[38;5;28;43mself\u001b[39;49m\u001b[38;5;241;43m.\u001b[39;49m\u001b[43mfunction\u001b[49m\u001b[43m(\u001b[49m\u001b[38;5;241;43m*\u001b[39;49m\u001b[43margs\u001b[49m\u001b[43m,\u001b[49m\u001b[43m \u001b[49m\u001b[38;5;241;43m*\u001b[39;49m\u001b[38;5;241;43m*\u001b[39;49m\u001b[43mkwargs\u001b[49m\u001b[43m)\u001b[49m\n",
      "File \u001b[0;32m~/pyvenv/lib/python3.10/site-packages/sklearn/model_selection/_validation.py:910\u001b[0m, in \u001b[0;36m_fit_and_score\u001b[0;34m(estimator, X, y, scorer, train, test, verbose, parameters, fit_params, score_params, return_train_score, return_parameters, return_n_test_samples, return_times, return_estimator, split_progress, candidate_progress, error_score)\u001b[0m\n\u001b[1;32m    907\u001b[0m result[\u001b[38;5;124m\"\u001b[39m\u001b[38;5;124mfit_error\u001b[39m\u001b[38;5;124m\"\u001b[39m] \u001b[38;5;241m=\u001b[39m \u001b[38;5;28;01mNone\u001b[39;00m\n\u001b[1;32m    909\u001b[0m fit_time \u001b[38;5;241m=\u001b[39m time\u001b[38;5;241m.\u001b[39mtime() \u001b[38;5;241m-\u001b[39m start_time\n\u001b[0;32m--> 910\u001b[0m test_scores \u001b[38;5;241m=\u001b[39m \u001b[43m_score\u001b[49m\u001b[43m(\u001b[49m\n\u001b[1;32m    911\u001b[0m \u001b[43m    \u001b[49m\u001b[43mestimator\u001b[49m\u001b[43m,\u001b[49m\u001b[43m \u001b[49m\u001b[43mX_test\u001b[49m\u001b[43m,\u001b[49m\u001b[43m \u001b[49m\u001b[43my_test\u001b[49m\u001b[43m,\u001b[49m\u001b[43m \u001b[49m\u001b[43mscorer\u001b[49m\u001b[43m,\u001b[49m\u001b[43m \u001b[49m\u001b[43mscore_params_test\u001b[49m\u001b[43m,\u001b[49m\u001b[43m \u001b[49m\u001b[43merror_score\u001b[49m\n\u001b[1;32m    912\u001b[0m \u001b[43m\u001b[49m\u001b[43m)\u001b[49m\n\u001b[1;32m    913\u001b[0m score_time \u001b[38;5;241m=\u001b[39m time\u001b[38;5;241m.\u001b[39mtime() \u001b[38;5;241m-\u001b[39m start_time \u001b[38;5;241m-\u001b[39m fit_time\n\u001b[1;32m    914\u001b[0m \u001b[38;5;28;01mif\u001b[39;00m return_train_score:\n",
      "File \u001b[0;32m~/pyvenv/lib/python3.10/site-packages/sklearn/model_selection/_validation.py:971\u001b[0m, in \u001b[0;36m_score\u001b[0;34m(estimator, X_test, y_test, scorer, score_params, error_score)\u001b[0m\n\u001b[1;32m    969\u001b[0m         scores \u001b[38;5;241m=\u001b[39m scorer(estimator, X_test, \u001b[38;5;241m*\u001b[39m\u001b[38;5;241m*\u001b[39mscore_params)\n\u001b[1;32m    970\u001b[0m     \u001b[38;5;28;01melse\u001b[39;00m:\n\u001b[0;32m--> 971\u001b[0m         scores \u001b[38;5;241m=\u001b[39m \u001b[43mscorer\u001b[49m\u001b[43m(\u001b[49m\u001b[43mestimator\u001b[49m\u001b[43m,\u001b[49m\u001b[43m \u001b[49m\u001b[43mX_test\u001b[49m\u001b[43m,\u001b[49m\u001b[43m \u001b[49m\u001b[43my_test\u001b[49m\u001b[43m,\u001b[49m\u001b[43m \u001b[49m\u001b[38;5;241;43m*\u001b[39;49m\u001b[38;5;241;43m*\u001b[39;49m\u001b[43mscore_params\u001b[49m\u001b[43m)\u001b[49m\n\u001b[1;32m    972\u001b[0m \u001b[38;5;28;01mexcept\u001b[39;00m \u001b[38;5;167;01mException\u001b[39;00m:\n\u001b[1;32m    973\u001b[0m     \u001b[38;5;28;01mif\u001b[39;00m \u001b[38;5;28misinstance\u001b[39m(scorer, _MultimetricScorer):\n\u001b[1;32m    974\u001b[0m         \u001b[38;5;66;03m# If `_MultimetricScorer` raises exception, the `error_score`\u001b[39;00m\n\u001b[1;32m    975\u001b[0m         \u001b[38;5;66;03m# parameter is equal to \"raise\".\u001b[39;00m\n",
      "File \u001b[0;32m~/pyvenv/lib/python3.10/site-packages/sklearn/metrics/_scorer.py:147\u001b[0m, in \u001b[0;36m_MultimetricScorer.__call__\u001b[0;34m(self, estimator, *args, **kwargs)\u001b[0m\n\u001b[1;32m    145\u001b[0m \u001b[38;5;28;01mexcept\u001b[39;00m \u001b[38;5;167;01mException\u001b[39;00m \u001b[38;5;28;01mas\u001b[39;00m e:\n\u001b[1;32m    146\u001b[0m     \u001b[38;5;28;01mif\u001b[39;00m \u001b[38;5;28mself\u001b[39m\u001b[38;5;241m.\u001b[39m_raise_exc:\n\u001b[0;32m--> 147\u001b[0m         \u001b[38;5;28;01mraise\u001b[39;00m e\n\u001b[1;32m    148\u001b[0m     \u001b[38;5;28;01melse\u001b[39;00m:\n\u001b[1;32m    149\u001b[0m         scores[name] \u001b[38;5;241m=\u001b[39m format_exc()\n",
      "File \u001b[0;32m~/pyvenv/lib/python3.10/site-packages/sklearn/metrics/_scorer.py:139\u001b[0m, in \u001b[0;36m_MultimetricScorer.__call__\u001b[0;34m(self, estimator, *args, **kwargs)\u001b[0m\n\u001b[1;32m    137\u001b[0m \u001b[38;5;28;01mtry\u001b[39;00m:\n\u001b[1;32m    138\u001b[0m     \u001b[38;5;28;01mif\u001b[39;00m \u001b[38;5;28misinstance\u001b[39m(scorer, _BaseScorer):\n\u001b[0;32m--> 139\u001b[0m         score \u001b[38;5;241m=\u001b[39m \u001b[43mscorer\u001b[49m\u001b[38;5;241;43m.\u001b[39;49m\u001b[43m_score\u001b[49m\u001b[43m(\u001b[49m\n\u001b[1;32m    140\u001b[0m \u001b[43m            \u001b[49m\u001b[43mcached_call\u001b[49m\u001b[43m,\u001b[49m\u001b[43m \u001b[49m\u001b[43mestimator\u001b[49m\u001b[43m,\u001b[49m\u001b[43m \u001b[49m\u001b[38;5;241;43m*\u001b[39;49m\u001b[43margs\u001b[49m\u001b[43m,\u001b[49m\u001b[43m \u001b[49m\u001b[38;5;241;43m*\u001b[39;49m\u001b[38;5;241;43m*\u001b[39;49m\u001b[43mrouted_params\u001b[49m\u001b[38;5;241;43m.\u001b[39;49m\u001b[43mget\u001b[49m\u001b[43m(\u001b[49m\u001b[43mname\u001b[49m\u001b[43m)\u001b[49m\u001b[38;5;241;43m.\u001b[39;49m\u001b[43mscore\u001b[49m\n\u001b[1;32m    141\u001b[0m \u001b[43m        \u001b[49m\u001b[43m)\u001b[49m\n\u001b[1;32m    142\u001b[0m     \u001b[38;5;28;01melse\u001b[39;00m:\n\u001b[1;32m    143\u001b[0m         score \u001b[38;5;241m=\u001b[39m scorer(estimator, \u001b[38;5;241m*\u001b[39margs, \u001b[38;5;241m*\u001b[39m\u001b[38;5;241m*\u001b[39mrouted_params\u001b[38;5;241m.\u001b[39mget(name)\u001b[38;5;241m.\u001b[39mscore)\n",
      "File \u001b[0;32m~/pyvenv/lib/python3.10/site-packages/sklearn/metrics/_scorer.py:376\u001b[0m, in \u001b[0;36m_Scorer._score\u001b[0;34m(self, method_caller, estimator, X, y_true, **kwargs)\u001b[0m\n\u001b[1;32m    371\u001b[0m y_pred \u001b[38;5;241m=\u001b[39m method_caller(\n\u001b[1;32m    372\u001b[0m     estimator, response_method\u001b[38;5;241m.\u001b[39m\u001b[38;5;18m__name__\u001b[39m, X, pos_label\u001b[38;5;241m=\u001b[39mpos_label\n\u001b[1;32m    373\u001b[0m )\n\u001b[1;32m    375\u001b[0m scoring_kwargs \u001b[38;5;241m=\u001b[39m {\u001b[38;5;241m*\u001b[39m\u001b[38;5;241m*\u001b[39m\u001b[38;5;28mself\u001b[39m\u001b[38;5;241m.\u001b[39m_kwargs, \u001b[38;5;241m*\u001b[39m\u001b[38;5;241m*\u001b[39mkwargs}\n\u001b[0;32m--> 376\u001b[0m \u001b[38;5;28;01mreturn\u001b[39;00m \u001b[38;5;28mself\u001b[39m\u001b[38;5;241m.\u001b[39m_sign \u001b[38;5;241m*\u001b[39m \u001b[38;5;28;43mself\u001b[39;49m\u001b[38;5;241;43m.\u001b[39;49m\u001b[43m_score_func\u001b[49m\u001b[43m(\u001b[49m\u001b[43my_true\u001b[49m\u001b[43m,\u001b[49m\u001b[43m \u001b[49m\u001b[43my_pred\u001b[49m\u001b[43m,\u001b[49m\u001b[43m \u001b[49m\u001b[38;5;241;43m*\u001b[39;49m\u001b[38;5;241;43m*\u001b[39;49m\u001b[43mscoring_kwargs\u001b[49m\u001b[43m)\u001b[49m\n",
      "File \u001b[0;32m~/pyvenv/lib/python3.10/site-packages/sklearn/utils/_param_validation.py:213\u001b[0m, in \u001b[0;36mvalidate_params.<locals>.decorator.<locals>.wrapper\u001b[0;34m(*args, **kwargs)\u001b[0m\n\u001b[1;32m    207\u001b[0m \u001b[38;5;28;01mtry\u001b[39;00m:\n\u001b[1;32m    208\u001b[0m     \u001b[38;5;28;01mwith\u001b[39;00m config_context(\n\u001b[1;32m    209\u001b[0m         skip_parameter_validation\u001b[38;5;241m=\u001b[39m(\n\u001b[1;32m    210\u001b[0m             prefer_skip_nested_validation \u001b[38;5;129;01mor\u001b[39;00m global_skip_validation\n\u001b[1;32m    211\u001b[0m         )\n\u001b[1;32m    212\u001b[0m     ):\n\u001b[0;32m--> 213\u001b[0m         \u001b[38;5;28;01mreturn\u001b[39;00m \u001b[43mfunc\u001b[49m\u001b[43m(\u001b[49m\u001b[38;5;241;43m*\u001b[39;49m\u001b[43margs\u001b[49m\u001b[43m,\u001b[49m\u001b[43m \u001b[49m\u001b[38;5;241;43m*\u001b[39;49m\u001b[38;5;241;43m*\u001b[39;49m\u001b[43mkwargs\u001b[49m\u001b[43m)\u001b[49m\n\u001b[1;32m    214\u001b[0m \u001b[38;5;28;01mexcept\u001b[39;00m InvalidParameterError \u001b[38;5;28;01mas\u001b[39;00m e:\n\u001b[1;32m    215\u001b[0m     \u001b[38;5;66;03m# When the function is just a wrapper around an estimator, we allow\u001b[39;00m\n\u001b[1;32m    216\u001b[0m     \u001b[38;5;66;03m# the function to delegate validation to the estimator, but we replace\u001b[39;00m\n\u001b[1;32m    217\u001b[0m     \u001b[38;5;66;03m# the name of the estimator by the name of the function in the error\u001b[39;00m\n\u001b[1;32m    218\u001b[0m     \u001b[38;5;66;03m# message to avoid confusion.\u001b[39;00m\n\u001b[1;32m    219\u001b[0m     msg \u001b[38;5;241m=\u001b[39m re\u001b[38;5;241m.\u001b[39msub(\n\u001b[1;32m    220\u001b[0m         \u001b[38;5;124mr\u001b[39m\u001b[38;5;124m\"\u001b[39m\u001b[38;5;124mparameter of \u001b[39m\u001b[38;5;124m\\\u001b[39m\u001b[38;5;124mw+ must be\u001b[39m\u001b[38;5;124m\"\u001b[39m,\n\u001b[1;32m    221\u001b[0m         \u001b[38;5;124mf\u001b[39m\u001b[38;5;124m\"\u001b[39m\u001b[38;5;124mparameter of \u001b[39m\u001b[38;5;132;01m{\u001b[39;00mfunc\u001b[38;5;241m.\u001b[39m\u001b[38;5;18m__qualname__\u001b[39m\u001b[38;5;132;01m}\u001b[39;00m\u001b[38;5;124m must be\u001b[39m\u001b[38;5;124m\"\u001b[39m,\n\u001b[1;32m    222\u001b[0m         \u001b[38;5;28mstr\u001b[39m(e),\n\u001b[1;32m    223\u001b[0m     )\n",
      "File \u001b[0;32m~/pyvenv/lib/python3.10/site-packages/sklearn/metrics/_classification.py:2954\u001b[0m, in \u001b[0;36mlog_loss\u001b[0;34m(y_true, y_pred, normalize, sample_weight, labels)\u001b[0m\n\u001b[1;32m   2952\u001b[0m \u001b[38;5;28;01mif\u001b[39;00m \u001b[38;5;28mlen\u001b[39m(lb\u001b[38;5;241m.\u001b[39mclasses_) \u001b[38;5;241m!=\u001b[39m y_pred\u001b[38;5;241m.\u001b[39mshape[\u001b[38;5;241m1\u001b[39m]:\n\u001b[1;32m   2953\u001b[0m     \u001b[38;5;28;01mif\u001b[39;00m labels \u001b[38;5;129;01mis\u001b[39;00m \u001b[38;5;28;01mNone\u001b[39;00m:\n\u001b[0;32m-> 2954\u001b[0m         \u001b[38;5;28;01mraise\u001b[39;00m \u001b[38;5;167;01mValueError\u001b[39;00m(\n\u001b[1;32m   2955\u001b[0m             \u001b[38;5;124m\"\u001b[39m\u001b[38;5;124my_true and y_pred contain different number of \u001b[39m\u001b[38;5;124m\"\u001b[39m\n\u001b[1;32m   2956\u001b[0m             \u001b[38;5;124m\"\u001b[39m\u001b[38;5;124mclasses \u001b[39m\u001b[38;5;132;01m{0}\u001b[39;00m\u001b[38;5;124m, \u001b[39m\u001b[38;5;132;01m{1}\u001b[39;00m\u001b[38;5;124m. Please provide the true \u001b[39m\u001b[38;5;124m\"\u001b[39m\n\u001b[1;32m   2957\u001b[0m             \u001b[38;5;124m\"\u001b[39m\u001b[38;5;124mlabels explicitly through the labels argument. \u001b[39m\u001b[38;5;124m\"\u001b[39m\n\u001b[1;32m   2958\u001b[0m             \u001b[38;5;124m\"\u001b[39m\u001b[38;5;124mClasses found in \u001b[39m\u001b[38;5;124m\"\u001b[39m\n\u001b[1;32m   2959\u001b[0m             \u001b[38;5;124m\"\u001b[39m\u001b[38;5;124my_true: \u001b[39m\u001b[38;5;132;01m{2}\u001b[39;00m\u001b[38;5;124m\"\u001b[39m\u001b[38;5;241m.\u001b[39mformat(\n\u001b[1;32m   2960\u001b[0m                 transformed_labels\u001b[38;5;241m.\u001b[39mshape[\u001b[38;5;241m1\u001b[39m], y_pred\u001b[38;5;241m.\u001b[39mshape[\u001b[38;5;241m1\u001b[39m], lb\u001b[38;5;241m.\u001b[39mclasses_\n\u001b[1;32m   2961\u001b[0m             )\n\u001b[1;32m   2962\u001b[0m         )\n\u001b[1;32m   2963\u001b[0m     \u001b[38;5;28;01melse\u001b[39;00m:\n\u001b[1;32m   2964\u001b[0m         \u001b[38;5;28;01mraise\u001b[39;00m \u001b[38;5;167;01mValueError\u001b[39;00m(\n\u001b[1;32m   2965\u001b[0m             \u001b[38;5;124m\"\u001b[39m\u001b[38;5;124mThe number of classes in labels is different \u001b[39m\u001b[38;5;124m\"\u001b[39m\n\u001b[1;32m   2966\u001b[0m             \u001b[38;5;124m\"\u001b[39m\u001b[38;5;124mfrom that in y_pred. Classes found in \u001b[39m\u001b[38;5;124m\"\u001b[39m\n\u001b[1;32m   2967\u001b[0m             \u001b[38;5;124m\"\u001b[39m\u001b[38;5;124mlabels: \u001b[39m\u001b[38;5;132;01m{0}\u001b[39;00m\u001b[38;5;124m\"\u001b[39m\u001b[38;5;241m.\u001b[39mformat(lb\u001b[38;5;241m.\u001b[39mclasses_)\n\u001b[1;32m   2968\u001b[0m         )\n",
      "\u001b[0;31mValueError\u001b[0m: y_true and y_pred contain different number of classes 12, 13. Please provide the true labels explicitly through the labels argument. Classes found in y_true: [ 0  1  2  3  4  5  7  8  9 10 11 12]"
     ]
    }
   ],
   "source": [
    "# Check approx where XGBoost Classifier error starts to plateau based on n instances for cutting off grid search and understanding training timing\n",
    "plot_model_error_on_n(xgb, 2000, 20000, \"XGBoost Classifier\", y_train=y_train_encoded)"
   ]
  },
  {
   "cell_type": "code",
   "execution_count": 33,
   "id": "34fddf7e-e003-4f14-a483-09211a20a8ba",
   "metadata": {},
   "outputs": [
    {
     "name": "stderr",
     "output_type": "stream",
     "text": [
      "[Parallel(n_jobs=4)]: Using backend LokyBackend with 4 concurrent workers.\n",
      "[Parallel(n_jobs=4)]: Done   2 out of   5 | elapsed:   18.9s remaining:   28.4s\n"
     ]
    },
    {
     "name": "stdout",
     "output_type": "stream",
     "text": [
      "The Basic XGBoost Boost Classifier Has a Neg Log Loss of: -1.65\n"
     ]
    },
    {
     "name": "stderr",
     "output_type": "stream",
     "text": [
      "[Parallel(n_jobs=4)]: Done   5 out of   5 | elapsed:   27.8s finished\n"
     ]
    }
   ],
   "source": [
    "# Check the baseline\n",
    "xgb_scores = cross_val_score(xgb, x_train[:50000], y_train_encoded[:50000], cv=5, scoring=\"neg_log_loss\", n_jobs=4, verbose = 3)\n",
    "print(\"The Basic XGBoost Boost Classifier Has a Neg Log Loss of: {}\".format(round(xgb_scores.mean(),3)))"
   ]
  },
  {
   "cell_type": "markdown",
   "id": "4d99cc79-fd1a-4551-a5af-355e1407ad50",
   "metadata": {},
   "source": [
    "### Grid Search for XGBoostClassifier"
   ]
  },
  {
   "cell_type": "code",
   "execution_count": 203,
   "id": "f84c72cf-d3a5-4525-86d1-7efed61efcd0",
   "metadata": {},
   "outputs": [],
   "source": [
    "child_weight_params = [1, 3, 6]\n",
    "gamma_params = [.5, 1, 1.5]\n",
    "subsample_params = [.6, .8]\n",
    "colsample_bytree_params = [.6, .8]\n",
    "max_depth_params = [1,2,5]\n",
    "alpha_params = [.5, 1]"
   ]
  },
  {
   "cell_type": "code",
   "execution_count": 204,
   "id": "86b73718-169a-4999-b0f7-bbae85ca9f7b",
   "metadata": {},
   "outputs": [],
   "source": [
    "xgb_params = {'min_child_weight': child_weight_params,'gamma': gamma_params,'subsample': subsample_params,\n",
    "              'colsample_bytree': colsample_bytree_params,'max_depth': max_depth_params, \"alpha\":alpha_params}\n",
    "\n",
    "xgb_grid_search = GridSearchCV(XGBClassifier(), xgb_params, cv=5, scoring = \"neg_log_loss\", verbose = 3)\n",
    "xgb_grid_search.fit(x_train[:30000], y_train_encoded[:30000])\n",
    "clear_output(wait=False)"
   ]
  },
  {
   "cell_type": "code",
   "execution_count": 205,
   "id": "c273092a-4053-4828-868e-703fcc40f963",
   "metadata": {},
   "outputs": [
    {
     "name": "stdout",
     "output_type": "stream",
     "text": [
      "The Best XGBoost Classifier Has a Neg Log Loss Of: -1.608\n",
      "The Best XABoost Classifier Has Parameters Of: {'alpha': 0.5, 'colsample_bytree': 0.8, 'gamma': 1, 'max_depth': 1, 'min_child_weight': 1, 'subsample': 0.8}\n"
     ]
    }
   ],
   "source": [
    "final_xgb = xgb_grid_search.best_estimator_\n",
    "print(\"The Best XGBoost Classifier Has a Neg Log Loss Of: {}\".format(round(xgb_grid_search.best_score_, 3)))\n",
    "print(\"The Best XABoost Classifier Has Parameters Of: {}\".format(xgb_grid_search.best_params_))"
   ]
  },
  {
   "cell_type": "code",
   "execution_count": 208,
   "id": "fe78c094-6af1-4299-b347-f562a915071f",
   "metadata": {},
   "outputs": [
    {
     "name": "stderr",
     "output_type": "stream",
     "text": [
      "[Parallel(n_jobs=4)]: Using backend LokyBackend with 4 concurrent workers.\n",
      "[Parallel(n_jobs=4)]: Done   2 out of   5 | elapsed:   49.0s remaining:  1.2min\n"
     ]
    },
    {
     "name": "stdout",
     "output_type": "stream",
     "text": [
      "The Final XGBoost Classifier Has a Neg Log Loss Of: -1.61\n"
     ]
    },
    {
     "name": "stderr",
     "output_type": "stream",
     "text": [
      "[Parallel(n_jobs=4)]: Done   5 out of   5 | elapsed:  1.2min finished\n"
     ]
    }
   ],
   "source": [
    "final_xgb_scores = cross_val_score(xgb_grid_search.best_estimator_, x_train, y_train_encoded, cv=5, scoring=\"neg_log_loss\", verbose=3, n_jobs=4)\n",
    "print(\"The Final XGBoost Classifier Has a Neg Log Loss Of: {}\".format(round(final_xgb_scores.mean(), 3)))"
   ]
  },
  {
   "cell_type": "markdown",
   "id": "b2a7e18a-8802-4f5b-925f-6ddfe3da4c55",
   "metadata": {},
   "source": [
    "## Neural Network"
   ]
  },
  {
   "cell_type": "code",
   "execution_count": 27,
   "id": "6ff2ce15-6c3e-459a-a75c-3a1e0e01c8b2",
   "metadata": {},
   "outputs": [],
   "source": [
    "import tensorflow as tf\n",
    "from tensorflow.keras.models import Sequential\n",
    "from tensorflow.keras.layers import Dense"
   ]
  },
  {
   "cell_type": "code",
   "execution_count": 34,
   "id": "89ed6357-fc46-4a60-88b4-72a726719a6c",
   "metadata": {},
   "outputs": [],
   "source": [
    "def run_neural_network(list_nodes, features=126, categories=13, x_train=x_train, y_train=y_train_encoded):\n",
    "    callback = tf.keras.callbacks.EarlyStopping(monitor='sparse_categorical_crossentropy', patience=5, start_from_epoch=4, restore_best_weights = True)\n",
    "\n",
    "    # Create a Sequential model\n",
    "    model = Sequential()\n",
    "\n",
    "    # Add the first hidden layer with 10 nodes and specify the input shape (54 inputs)\n",
    "    model.add(Dense(list_nodes[0], input_shape=(features,), activation='relu'))\n",
    "    \n",
    "    for layer in range(len(list_nodes)-1):\n",
    "        # Add the second hidden layer with 10 nodes\n",
    "        model.add(Dense(list_nodes[layer+1], activation='relu'))\n",
    "\n",
    "    # Add the output layer with 13 nodes \n",
    "    model.add(Dense(categories, activation='softmax'))\n",
    "\n",
    "    # Call model on a test input\n",
    "    model.compile(loss='sparse_categorical_crossentropy', optimizer='adam', metrics=['sparse_categorical_crossentropy'])\n",
    "    # fit the keras model on the dataset\n",
    "    model_history = model.fit(x_train, np.array(y_train_encoded), epochs=150, batch_size=10, callbacks = [callback])\n",
    "    \n",
    "    return {\"final_model\":model, \"model_history\":model_history} \n"
   ]
  },
  {
   "cell_type": "code",
   "execution_count": 35,
   "id": "d576f57e-5013-483c-b7a8-0347e5cc9e7a",
   "metadata": {},
   "outputs": [
    {
     "name": "stdout",
     "output_type": "stream",
     "text": [
      "Epoch 1/150\n",
      "\u001b[1m34870/34870\u001b[0m \u001b[32m━━━━━━━━━━━━━━━━━━━━\u001b[0m\u001b[37m\u001b[0m \u001b[1m13s\u001b[0m 362us/step - loss: 1.6712 - sparse_categorical_crossentropy: 1.6712\n",
      "Epoch 2/150\n",
      "\u001b[1m34870/34870\u001b[0m \u001b[32m━━━━━━━━━━━━━━━━━━━━\u001b[0m\u001b[37m\u001b[0m \u001b[1m13s\u001b[0m 366us/step - loss: 1.6277 - sparse_categorical_crossentropy: 1.6277\n",
      "Epoch 3/150\n",
      "\u001b[1m34870/34870\u001b[0m \u001b[32m━━━━━━━━━━━━━━━━━━━━\u001b[0m\u001b[37m\u001b[0m \u001b[1m13s\u001b[0m 361us/step - loss: 1.6241 - sparse_categorical_crossentropy: 1.6241\n",
      "Epoch 4/150\n",
      "\u001b[1m34870/34870\u001b[0m \u001b[32m━━━━━━━━━━━━━━━━━━━━\u001b[0m\u001b[37m\u001b[0m \u001b[1m14s\u001b[0m 408us/step - loss: 1.6208 - sparse_categorical_crossentropy: 1.6208\n",
      "Epoch 5/150\n",
      "\u001b[1m34870/34870\u001b[0m \u001b[32m━━━━━━━━━━━━━━━━━━━━\u001b[0m\u001b[37m\u001b[0m \u001b[1m17s\u001b[0m 476us/step - loss: 1.6220 - sparse_categorical_crossentropy: 1.6220\n",
      "Epoch 6/150\n",
      "\u001b[1m34870/34870\u001b[0m \u001b[32m━━━━━━━━━━━━━━━━━━━━\u001b[0m\u001b[37m\u001b[0m \u001b[1m13s\u001b[0m 367us/step - loss: 1.6195 - sparse_categorical_crossentropy: 1.6195\n",
      "Epoch 7/150\n",
      "\u001b[1m34870/34870\u001b[0m \u001b[32m━━━━━━━━━━━━━━━━━━━━\u001b[0m\u001b[37m\u001b[0m \u001b[1m13s\u001b[0m 370us/step - loss: 1.6185 - sparse_categorical_crossentropy: 1.6185\n",
      "Epoch 8/150\n",
      "\u001b[1m34870/34870\u001b[0m \u001b[32m━━━━━━━━━━━━━━━━━━━━\u001b[0m\u001b[37m\u001b[0m \u001b[1m13s\u001b[0m 370us/step - loss: 1.6191 - sparse_categorical_crossentropy: 1.6191\n",
      "Epoch 9/150\n",
      "\u001b[1m34870/34870\u001b[0m \u001b[32m━━━━━━━━━━━━━━━━━━━━\u001b[0m\u001b[37m\u001b[0m \u001b[1m13s\u001b[0m 375us/step - loss: 1.6169 - sparse_categorical_crossentropy: 1.6169\n",
      "Epoch 10/150\n",
      "\u001b[1m34870/34870\u001b[0m \u001b[32m━━━━━━━━━━━━━━━━━━━━\u001b[0m\u001b[37m\u001b[0m \u001b[1m13s\u001b[0m 368us/step - loss: 1.6151 - sparse_categorical_crossentropy: 1.6151\n",
      "Epoch 11/150\n",
      "\u001b[1m34870/34870\u001b[0m \u001b[32m━━━━━━━━━━━━━━━━━━━━\u001b[0m\u001b[37m\u001b[0m \u001b[1m13s\u001b[0m 376us/step - loss: 1.6171 - sparse_categorical_crossentropy: 1.6171\n",
      "Epoch 12/150\n",
      "\u001b[1m34870/34870\u001b[0m \u001b[32m━━━━━━━━━━━━━━━━━━━━\u001b[0m\u001b[37m\u001b[0m \u001b[1m13s\u001b[0m 373us/step - loss: 1.6138 - sparse_categorical_crossentropy: 1.6138\n",
      "Epoch 13/150\n",
      "\u001b[1m34870/34870\u001b[0m \u001b[32m━━━━━━━━━━━━━━━━━━━━\u001b[0m\u001b[37m\u001b[0m \u001b[1m17s\u001b[0m 485us/step - loss: 1.6135 - sparse_categorical_crossentropy: 1.6135\n",
      "Epoch 14/150\n",
      "\u001b[1m34870/34870\u001b[0m \u001b[32m━━━━━━━━━━━━━━━━━━━━\u001b[0m\u001b[37m\u001b[0m \u001b[1m14s\u001b[0m 389us/step - loss: 1.6124 - sparse_categorical_crossentropy: 1.6124\n",
      "Epoch 15/150\n",
      "\u001b[1m 4674/34870\u001b[0m \u001b[32m━━\u001b[0m\u001b[37m━━━━━━━━━━━━━━━━━━\u001b[0m \u001b[1m11s\u001b[0m 376us/step - loss: 1.6114 - sparse_categorical_crossentropy: 1.6114[CV] END ............................... score: (test=-1.643) total time=  17.7s\n",
      "\u001b[1m 5214/34870\u001b[0m \u001b[32m━━\u001b[0m\u001b[37m━━━━━━━━━━━━━━━━━━\u001b[0m \u001b[1m11s\u001b[0m 375us/step - loss: 1.6115 - sparse_categorical_crossentropy: 1.6115[CV] END ............................... score: (test=-1.645) total time=  17.9s\n",
      "\u001b[1m 5472/34870\u001b[0m \u001b[32m━━━\u001b[0m\u001b[37m━━━━━━━━━━━━━━━━━\u001b[0m \u001b[1m11s\u001b[0m 376us/step - loss: 1.6116 - sparse_categorical_crossentropy: 1.6116[CV] END ............................... score: (test=-1.662) total time=  17.9s\n",
      "\u001b[1m27292/34870\u001b[0m \u001b[32m━━━━━━━━━━━━━━━\u001b[0m\u001b[37m━━━━━\u001b[0m \u001b[1m2s\u001b[0m 390us/step - loss: 1.6120 - sparse_categorical_crossentropy: 1.6120[CV] END ............................... score: (test=-1.650) total time=  17.4s\n",
      "[CV] END ............................... score: (test=-1.651) total time=   9.3s\n",
      "\u001b[1m34870/34870\u001b[0m \u001b[32m━━━━━━━━━━━━━━━━━━━━\u001b[0m\u001b[37m\u001b[0m \u001b[1m14s\u001b[0m 408us/step - loss: 1.6121 - sparse_categorical_crossentropy: 1.6121\n",
      "Epoch 16/150\n",
      "\u001b[1m34870/34870\u001b[0m \u001b[32m━━━━━━━━━━━━━━━━━━━━\u001b[0m\u001b[37m\u001b[0m \u001b[1m14s\u001b[0m 409us/step - loss: 1.6104 - sparse_categorical_crossentropy: 1.6104\n",
      "Epoch 17/150\n",
      "\u001b[1m34870/34870\u001b[0m \u001b[32m━━━━━━━━━━━━━━━━━━━━\u001b[0m\u001b[37m\u001b[0m \u001b[1m13s\u001b[0m 368us/step - loss: 1.6107 - sparse_categorical_crossentropy: 1.6107\n",
      "Epoch 18/150\n",
      "\u001b[1m34870/34870\u001b[0m \u001b[32m━━━━━━━━━━━━━━━━━━━━\u001b[0m\u001b[37m\u001b[0m \u001b[1m15s\u001b[0m 443us/step - loss: 1.6075 - sparse_categorical_crossentropy: 1.6075\n",
      "Epoch 19/150\n",
      "\u001b[1m34870/34870\u001b[0m \u001b[32m━━━━━━━━━━━━━━━━━━━━\u001b[0m\u001b[37m\u001b[0m \u001b[1m13s\u001b[0m 365us/step - loss: 1.6099 - sparse_categorical_crossentropy: 1.6099\n",
      "Epoch 20/150\n",
      "\u001b[1m34870/34870\u001b[0m \u001b[32m━━━━━━━━━━━━━━━━━━━━\u001b[0m\u001b[37m\u001b[0m \u001b[1m13s\u001b[0m 374us/step - loss: 1.6112 - sparse_categorical_crossentropy: 1.6112\n",
      "Epoch 21/150\n",
      "\u001b[1m34870/34870\u001b[0m \u001b[32m━━━━━━━━━━━━━━━━━━━━\u001b[0m\u001b[37m\u001b[0m \u001b[1m13s\u001b[0m 375us/step - loss: 1.6103 - sparse_categorical_crossentropy: 1.6103\n",
      "Epoch 22/150\n",
      "\u001b[1m34870/34870\u001b[0m \u001b[32m━━━━━━━━━━━━━━━━━━━━\u001b[0m\u001b[37m\u001b[0m \u001b[1m13s\u001b[0m 369us/step - loss: 1.6091 - sparse_categorical_crossentropy: 1.6091\n",
      "Epoch 23/150\n",
      "\u001b[1m34870/34870\u001b[0m \u001b[32m━━━━━━━━━━━━━━━━━━━━\u001b[0m\u001b[37m\u001b[0m \u001b[1m13s\u001b[0m 367us/step - loss: 1.6068 - sparse_categorical_crossentropy: 1.6068\n",
      "Epoch 24/150\n",
      "\u001b[1m34870/34870\u001b[0m \u001b[32m━━━━━━━━━━━━━━━━━━━━\u001b[0m\u001b[37m\u001b[0m \u001b[1m13s\u001b[0m 367us/step - loss: 1.6077 - sparse_categorical_crossentropy: 1.6077\n",
      "Epoch 25/150\n",
      "\u001b[1m34870/34870\u001b[0m \u001b[32m━━━━━━━━━━━━━━━━━━━━\u001b[0m\u001b[37m\u001b[0m \u001b[1m13s\u001b[0m 364us/step - loss: 1.6086 - sparse_categorical_crossentropy: 1.6086\n",
      "Epoch 26/150\n",
      "\u001b[1m34870/34870\u001b[0m \u001b[32m━━━━━━━━━━━━━━━━━━━━\u001b[0m\u001b[37m\u001b[0m \u001b[1m103s\u001b[0m 3ms/step - loss: 1.6101 - sparse_categorical_crossentropy: 1.6101\n",
      "Epoch 27/150\n",
      "\u001b[1m34870/34870\u001b[0m \u001b[32m━━━━━━━━━━━━━━━━━━━━\u001b[0m\u001b[37m\u001b[0m \u001b[1m13s\u001b[0m 374us/step - loss: 1.6075 - sparse_categorical_crossentropy: 1.6075\n",
      "Epoch 28/150\n",
      "\u001b[1m34870/34870\u001b[0m \u001b[32m━━━━━━━━━━━━━━━━━━━━\u001b[0m\u001b[37m\u001b[0m \u001b[1m13s\u001b[0m 367us/step - loss: 1.6086 - sparse_categorical_crossentropy: 1.6086\n",
      "Epoch 29/150\n",
      "\u001b[1m34870/34870\u001b[0m \u001b[32m━━━━━━━━━━━━━━━━━━━━\u001b[0m\u001b[37m\u001b[0m \u001b[1m13s\u001b[0m 359us/step - loss: 1.6074 - sparse_categorical_crossentropy: 1.6074\n",
      "Epoch 30/150\n",
      "\u001b[1m34870/34870\u001b[0m \u001b[32m━━━━━━━━━━━━━━━━━━━━\u001b[0m\u001b[37m\u001b[0m \u001b[1m13s\u001b[0m 382us/step - loss: 1.6039 - sparse_categorical_crossentropy: 1.6039\n",
      "Epoch 31/150\n",
      "\u001b[1m34870/34870\u001b[0m \u001b[32m━━━━━━━━━━━━━━━━━━━━\u001b[0m\u001b[37m\u001b[0m \u001b[1m13s\u001b[0m 368us/step - loss: 1.6070 - sparse_categorical_crossentropy: 1.6070\n",
      "Epoch 32/150\n",
      "\u001b[1m34870/34870\u001b[0m \u001b[32m━━━━━━━━━━━━━━━━━━━━\u001b[0m\u001b[37m\u001b[0m \u001b[1m13s\u001b[0m 362us/step - loss: 1.6085 - sparse_categorical_crossentropy: 1.6085\n",
      "Epoch 33/150\n",
      "\u001b[1m34870/34870\u001b[0m \u001b[32m━━━━━━━━━━━━━━━━━━━━\u001b[0m\u001b[37m\u001b[0m \u001b[1m13s\u001b[0m 360us/step - loss: 1.6046 - sparse_categorical_crossentropy: 1.6046\n",
      "Epoch 34/150\n",
      "\u001b[1m34870/34870\u001b[0m \u001b[32m━━━━━━━━━━━━━━━━━━━━\u001b[0m\u001b[37m\u001b[0m \u001b[1m13s\u001b[0m 362us/step - loss: 1.6025 - sparse_categorical_crossentropy: 1.6025\n",
      "Epoch 35/150\n",
      "\u001b[1m34870/34870\u001b[0m \u001b[32m━━━━━━━━━━━━━━━━━━━━\u001b[0m\u001b[37m\u001b[0m \u001b[1m13s\u001b[0m 362us/step - loss: 1.6042 - sparse_categorical_crossentropy: 1.6042\n",
      "Epoch 36/150\n",
      "\u001b[1m34870/34870\u001b[0m \u001b[32m━━━━━━━━━━━━━━━━━━━━\u001b[0m\u001b[37m\u001b[0m \u001b[1m13s\u001b[0m 362us/step - loss: 1.6045 - sparse_categorical_crossentropy: 1.6045\n",
      "Epoch 37/150\n",
      "\u001b[1m34870/34870\u001b[0m \u001b[32m━━━━━━━━━━━━━━━━━━━━\u001b[0m\u001b[37m\u001b[0m \u001b[1m13s\u001b[0m 361us/step - loss: 1.6012 - sparse_categorical_crossentropy: 1.6012\n",
      "Epoch 38/150\n",
      "\u001b[1m34870/34870\u001b[0m \u001b[32m━━━━━━━━━━━━━━━━━━━━\u001b[0m\u001b[37m\u001b[0m \u001b[1m13s\u001b[0m 362us/step - loss: 1.6050 - sparse_categorical_crossentropy: 1.6050\n",
      "Epoch 39/150\n",
      "\u001b[1m34870/34870\u001b[0m \u001b[32m━━━━━━━━━━━━━━━━━━━━\u001b[0m\u001b[37m\u001b[0m \u001b[1m13s\u001b[0m 367us/step - loss: 1.6021 - sparse_categorical_crossentropy: 1.6021\n",
      "Epoch 40/150\n",
      "\u001b[1m34870/34870\u001b[0m \u001b[32m━━━━━━━━━━━━━━━━━━━━\u001b[0m\u001b[37m\u001b[0m \u001b[1m13s\u001b[0m 362us/step - loss: 1.6013 - sparse_categorical_crossentropy: 1.6013\n",
      "Epoch 41/150\n",
      "\u001b[1m34870/34870\u001b[0m \u001b[32m━━━━━━━━━━━━━━━━━━━━\u001b[0m\u001b[37m\u001b[0m \u001b[1m13s\u001b[0m 360us/step - loss: 1.6085 - sparse_categorical_crossentropy: 1.6085\n",
      "Epoch 42/150\n",
      "\u001b[1m34870/34870\u001b[0m \u001b[32m━━━━━━━━━━━━━━━━━━━━\u001b[0m\u001b[37m\u001b[0m \u001b[1m13s\u001b[0m 361us/step - loss: 1.6008 - sparse_categorical_crossentropy: 1.6008\n",
      "Epoch 43/150\n",
      "\u001b[1m34870/34870\u001b[0m \u001b[32m━━━━━━━━━━━━━━━━━━━━\u001b[0m\u001b[37m\u001b[0m \u001b[1m13s\u001b[0m 362us/step - loss: 1.6028 - sparse_categorical_crossentropy: 1.6028\n",
      "Epoch 44/150\n",
      "\u001b[1m34870/34870\u001b[0m \u001b[32m━━━━━━━━━━━━━━━━━━━━\u001b[0m\u001b[37m\u001b[0m \u001b[1m13s\u001b[0m 361us/step - loss: 1.5991 - sparse_categorical_crossentropy: 1.5991\n",
      "Epoch 45/150\n",
      "\u001b[1m34870/34870\u001b[0m \u001b[32m━━━━━━━━━━━━━━━━━━━━\u001b[0m\u001b[37m\u001b[0m \u001b[1m13s\u001b[0m 361us/step - loss: 1.6004 - sparse_categorical_crossentropy: 1.6004\n",
      "Epoch 46/150\n",
      "\u001b[1m34870/34870\u001b[0m \u001b[32m━━━━━━━━━━━━━━━━━━━━\u001b[0m\u001b[37m\u001b[0m \u001b[1m13s\u001b[0m 361us/step - loss: 1.5999 - sparse_categorical_crossentropy: 1.5999\n",
      "Epoch 47/150\n",
      "\u001b[1m34870/34870\u001b[0m \u001b[32m━━━━━━━━━━━━━━━━━━━━\u001b[0m\u001b[37m\u001b[0m \u001b[1m13s\u001b[0m 361us/step - loss: 1.6011 - sparse_categorical_crossentropy: 1.6011\n",
      "Epoch 48/150\n",
      "\u001b[1m34870/34870\u001b[0m \u001b[32m━━━━━━━━━━━━━━━━━━━━\u001b[0m\u001b[37m\u001b[0m \u001b[1m13s\u001b[0m 370us/step - loss: 1.5997 - sparse_categorical_crossentropy: 1.5997\n",
      "Epoch 49/150\n",
      "\u001b[1m34870/34870\u001b[0m \u001b[32m━━━━━━━━━━━━━━━━━━━━\u001b[0m\u001b[37m\u001b[0m \u001b[1m13s\u001b[0m 362us/step - loss: 1.5987 - sparse_categorical_crossentropy: 1.5987\n",
      "Epoch 50/150\n",
      "\u001b[1m34870/34870\u001b[0m \u001b[32m━━━━━━━━━━━━━━━━━━━━\u001b[0m\u001b[37m\u001b[0m \u001b[1m13s\u001b[0m 362us/step - loss: 1.5963 - sparse_categorical_crossentropy: 1.5963\n",
      "Epoch 51/150\n",
      "\u001b[1m34870/34870\u001b[0m \u001b[32m━━━━━━━━━━━━━━━━━━━━\u001b[0m\u001b[37m\u001b[0m \u001b[1m13s\u001b[0m 361us/step - loss: 1.5977 - sparse_categorical_crossentropy: 1.5977\n",
      "Epoch 52/150\n",
      "\u001b[1m34870/34870\u001b[0m \u001b[32m━━━━━━━━━━━━━━━━━━━━\u001b[0m\u001b[37m\u001b[0m \u001b[1m13s\u001b[0m 368us/step - loss: 1.6000 - sparse_categorical_crossentropy: 1.6000\n",
      "Epoch 53/150\n",
      "\u001b[1m34870/34870\u001b[0m \u001b[32m━━━━━━━━━━━━━━━━━━━━\u001b[0m\u001b[37m\u001b[0m \u001b[1m15s\u001b[0m 435us/step - loss: 1.5976 - sparse_categorical_crossentropy: 1.5976\n",
      "Epoch 54/150\n",
      "\u001b[1m34870/34870\u001b[0m \u001b[32m━━━━━━━━━━━━━━━━━━━━\u001b[0m\u001b[37m\u001b[0m \u001b[1m15s\u001b[0m 431us/step - loss: 1.5978 - sparse_categorical_crossentropy: 1.5978\n",
      "Epoch 55/150\n",
      "\u001b[1m34870/34870\u001b[0m \u001b[32m━━━━━━━━━━━━━━━━━━━━\u001b[0m\u001b[37m\u001b[0m \u001b[1m13s\u001b[0m 361us/step - loss: 1.5973 - sparse_categorical_crossentropy: 1.5973\n",
      "Epoch 56/150\n",
      "\u001b[1m34870/34870\u001b[0m \u001b[32m━━━━━━━━━━━━━━━━━━━━\u001b[0m\u001b[37m\u001b[0m \u001b[1m13s\u001b[0m 362us/step - loss: 1.5983 - sparse_categorical_crossentropy: 1.5983\n",
      "Epoch 57/150\n",
      "\u001b[1m34870/34870\u001b[0m \u001b[32m━━━━━━━━━━━━━━━━━━━━\u001b[0m\u001b[37m\u001b[0m \u001b[1m13s\u001b[0m 361us/step - loss: 1.5999 - sparse_categorical_crossentropy: 1.5999\n",
      "Epoch 58/150\n",
      "\u001b[1m34870/34870\u001b[0m \u001b[32m━━━━━━━━━━━━━━━━━━━━\u001b[0m\u001b[37m\u001b[0m \u001b[1m13s\u001b[0m 365us/step - loss: 1.5993 - sparse_categorical_crossentropy: 1.5993\n",
      "Epoch 59/150\n",
      "\u001b[1m34870/34870\u001b[0m \u001b[32m━━━━━━━━━━━━━━━━━━━━\u001b[0m\u001b[37m\u001b[0m \u001b[1m13s\u001b[0m 362us/step - loss: 1.6022 - sparse_categorical_crossentropy: 1.6022\n",
      "Epoch 60/150\n",
      "\u001b[1m34870/34870\u001b[0m \u001b[32m━━━━━━━━━━━━━━━━━━━━\u001b[0m\u001b[37m\u001b[0m \u001b[1m13s\u001b[0m 361us/step - loss: 1.5975 - sparse_categorical_crossentropy: 1.5975\n",
      "Epoch 61/150\n",
      "\u001b[1m34870/34870\u001b[0m \u001b[32m━━━━━━━━━━━━━━━━━━━━\u001b[0m\u001b[37m\u001b[0m \u001b[1m13s\u001b[0m 361us/step - loss: 1.5977 - sparse_categorical_crossentropy: 1.5977\n",
      "Epoch 62/150\n",
      "\u001b[1m34870/34870\u001b[0m \u001b[32m━━━━━━━━━━━━━━━━━━━━\u001b[0m\u001b[37m\u001b[0m \u001b[1m13s\u001b[0m 361us/step - loss: 1.6024 - sparse_categorical_crossentropy: 1.6024\n",
      "Epoch 63/150\n",
      "\u001b[1m34870/34870\u001b[0m \u001b[32m━━━━━━━━━━━━━━━━━━━━\u001b[0m\u001b[37m\u001b[0m \u001b[1m13s\u001b[0m 368us/step - loss: 1.5961 - sparse_categorical_crossentropy: 1.5961\n",
      "Epoch 64/150\n",
      "\u001b[1m34870/34870\u001b[0m \u001b[32m━━━━━━━━━━━━━━━━━━━━\u001b[0m\u001b[37m\u001b[0m \u001b[1m13s\u001b[0m 366us/step - loss: 1.5987 - sparse_categorical_crossentropy: 1.5987\n",
      "Epoch 65/150\n",
      "\u001b[1m34870/34870\u001b[0m \u001b[32m━━━━━━━━━━━━━━━━━━━━\u001b[0m\u001b[37m\u001b[0m \u001b[1m13s\u001b[0m 372us/step - loss: 1.5964 - sparse_categorical_crossentropy: 1.5964\n",
      "Epoch 66/150\n",
      "\u001b[1m34870/34870\u001b[0m \u001b[32m━━━━━━━━━━━━━━━━━━━━\u001b[0m\u001b[37m\u001b[0m \u001b[1m13s\u001b[0m 367us/step - loss: 1.5984 - sparse_categorical_crossentropy: 1.5984\n",
      "Epoch 67/150\n",
      "\u001b[1m34870/34870\u001b[0m \u001b[32m━━━━━━━━━━━━━━━━━━━━\u001b[0m\u001b[37m\u001b[0m \u001b[1m13s\u001b[0m 361us/step - loss: 1.5995 - sparse_categorical_crossentropy: 1.5995\n",
      "Epoch 68/150\n",
      "\u001b[1m34870/34870\u001b[0m \u001b[32m━━━━━━━━━━━━━━━━━━━━\u001b[0m\u001b[37m\u001b[0m \u001b[1m13s\u001b[0m 361us/step - loss: 1.5953 - sparse_categorical_crossentropy: 1.5953\n",
      "Epoch 69/150\n",
      "\u001b[1m34870/34870\u001b[0m \u001b[32m━━━━━━━━━━━━━━━━━━━━\u001b[0m\u001b[37m\u001b[0m \u001b[1m13s\u001b[0m 361us/step - loss: 1.5975 - sparse_categorical_crossentropy: 1.5975\n",
      "Epoch 70/150\n",
      "\u001b[1m34870/34870\u001b[0m \u001b[32m━━━━━━━━━━━━━━━━━━━━\u001b[0m\u001b[37m\u001b[0m \u001b[1m13s\u001b[0m 361us/step - loss: 1.5953 - sparse_categorical_crossentropy: 1.5953\n",
      "Epoch 71/150\n",
      "\u001b[1m34870/34870\u001b[0m \u001b[32m━━━━━━━━━━━━━━━━━━━━\u001b[0m\u001b[37m\u001b[0m \u001b[1m13s\u001b[0m 362us/step - loss: 1.5983 - sparse_categorical_crossentropy: 1.5983\n"
     ]
    },
    {
     "data": {
      "text/plain": [
       "{'final_model': <Sequential name=sequential, built=True>,\n",
       " 'model_history': <keras.src.callbacks.history.History at 0x3080fb970>}"
      ]
     },
     "execution_count": 35,
     "metadata": {},
     "output_type": "execute_result"
    }
   ],
   "source": [
    "run_neural_network([80,80,80])"
   ]
  },
  {
   "cell_type": "markdown",
   "id": "5bd365a6-dc52-44dd-a9dd-f9493e710431",
   "metadata": {},
   "source": [
    "### Grid Search Neural Network Layers"
   ]
  },
  {
   "cell_type": "code",
   "execution_count": 356,
   "id": "da08eda6-03bc-460d-842e-cb5b808a0186",
   "metadata": {},
   "outputs": [],
   "source": [
    "models = []\n",
    "scores = []\n",
    "\n",
    "best_model = None\n",
    "best_score = 10000"
   ]
  },
  {
   "cell_type": "code",
   "execution_count": 359,
   "id": "7c7452dd-9fc2-490d-a072-cf40ffeec8de",
   "metadata": {},
   "outputs": [],
   "source": [
    "for n in range(30):\n",
    "    print(\"Running NN Number {}\".format(n+1))\n",
    "    \n",
    "    layers1 = np.random.randint(100,size=np.random.randint(4,size = 1)[0]+1)\n",
    "    layers2 = [layers1[0] for n in layers1]\n",
    "    \n",
    "    current_score = 100000\n",
    "    \n",
    "    model1 = run_neural_network(layers1)\n",
    "    models.append([layer.output_shape[1] for layer in model1[\"final_model\"].layers])\n",
    "    scores.append(min(model1[\"model_history\"].history[\"loss\"]))\n",
    "    \n",
    "    if min(model1[\"model_history\"].history[\"loss\"]) < best_score:\n",
    "        best_score = scores[-1]\n",
    "        best_model = models[-1]\n",
    "        \n",
    "    print(\"\\n\\n\\n Running Even Layered NN Number {}\".format(n+1))\n",
    "    model2 = run_neural_network(layers2)\n",
    "    models.append([layer.output_shape[1] for layer in model2[\"final_model\"].layers])\n",
    "    scores.append(min(model2[\"model_history\"].history[\"loss\"]))\n",
    "    \n",
    "    if min(model2[\"model_history\"].history[\"loss\"]) < best_score:\n",
    "        best_score = scores[-1]\n",
    "        best_model = models[-1]  \n",
    "        \n",
    "clear_output(wait=False)"
   ]
  },
  {
   "cell_type": "code",
   "execution_count": 424,
   "id": "4a069a6a-2c53-4304-a92a-bff9280e4b4e",
   "metadata": {},
   "outputs": [],
   "source": [
    "model_summary = {\"Baseline Guesser\":{\"Model\":None, \"Score\":dumb_log_loss_plays},\n",
    "                 \"Logistic Regression\":{\"Model\":final_logistic_regressor, \"Score\":round(final_softmax_scores.mean(),3)},\n",
    "                 \"K-Neighbors\":{\"Model\":final_KNC_classifier, \"Score\":round(final_KNC_scores.mean(),3)},\n",
    "                 \"Random Forest\":{\"Model\":final_rf_classifier, \"Score\":round(boosted_estimator_rf_scores.mean(),3)},\n",
    "                 \"Gradient Boosting\":{\"Model\":final_hgb_classifier, \"Score\":round(final_hgb_classifier_scores.mean(),3)},\n",
    "                 \"ADA Boost\":{\"Model\":final_abc_classifier, \"Score\":round(final_abc_scores.mean(),3)},\n",
    "                 \"XGBoost\":{\"Model\":final_xgb, \"Score\":round(final_xgb_scores.mean(),3)},\n",
    "                 \"Neural Network\":{\"Model\":best_model, \"Score\":-best_score}}\n",
    "\n",
    "summary_df = pd.DataFrame({\"Models\":model_summary.keys(), \"Scores\":[round(model_summary[key][\"Score\"]*-1,2) for key in model_summary]})\n",
    "summary_df = summary_df.sort_values(by='Scores', ascending=False).reset_index()"
   ]
  },
  {
   "cell_type": "code",
   "execution_count": 425,
   "id": "d1620605-19be-4082-bfa2-0c33d46321e9",
   "metadata": {},
   "outputs": [
    {
     "data": {
      "text/plain": [
       "Text(0.5, 1.0, 'Final Log Loss by Model')"
      ]
     },
     "execution_count": 425,
     "metadata": {},
     "output_type": "execute_result"
    },
    {
     "data": {
      "image/png": "[encoded data removed]",
      "text/plain": [
       "<Figure size 720x360 with 1 Axes>"
      ]
     },
     "metadata": {
      "needs_background": "light"
     },
     "output_type": "display_data"
    }
   ],
   "source": [
    "plt.figure(figsize = (10,5))\n",
    "plt.bar(summary_df.Models, summary_df.Scores)\n",
    "plt.xticks(rotation=45)\n",
    "plt.xticks(fontsize = 12)\n",
    "plt.axhline(y = -model_summary[\"Baseline Guesser\"][\"Score\"], color = 'k', linestyle = 'dashed')     \n",
    "plt.title(\"Final Log Loss by Model\", fontsize=16)"
   ]
  },
  {
   "cell_type": "code",
   "execution_count": 432,
   "id": "aa8773f5-3e07-4c7b-b5bf-40d4e3206d7c",
   "metadata": {},
   "outputs": [],
   "source": [
    "pkl.dump(model_summary, open(\"Summary of Models.pkl\", \"wb\"))"
   ]
  },
  {
   "cell_type": "code",
   "execution_count": 433,
   "id": "c667c9d9-9717-4070-8ee9-c0f5db5f3762",
   "metadata": {},
   "outputs": [],
   "source": [
    "models = pkl.load(open(\"Summary of Models.pkl\", \"rb\"))"
   ]
  },
  {
   "cell_type": "code",
   "execution_count": null,
   "id": "8f2315ff-ecf9-4bbb-bf88-52590a26e4ca",
   "metadata": {},
   "outputs": [],
   "source": []
  }
 ],
 "metadata": {
  "kernelspec": {
   "display_name": "Python 3 (ipykernel)",
   "language": "python",
   "name": "python3"
  },
  "language_info": {
   "codemirror_mode": {
    "name": "ipython",
    "version": 3
   },
   "file_extension": ".py",
   "mimetype": "text/x-python",
   "name": "python",
   "nbconvert_exporter": "python",
   "pygments_lexer": "ipython3",
   "version": "3.10.3"
  }
 },
 "nbformat": 4,
 "nbformat_minor": 5
}
