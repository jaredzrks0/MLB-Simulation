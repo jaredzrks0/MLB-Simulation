{
 "cells": [
  {
   "cell_type": "markdown",
   "id": "97cc637b-3c0c-4eaa-949e-114252d863ad",
   "metadata": {},
   "source": [
    "## UPDATES IN PROGRESS -- PRIOR SAVED VERSIONS OF FINAL DATASETS CAN BE LOADED IN TRAINING MODELS WORKSHEET"
   ]
  },
  {
   "cell_type": "code",
   "execution_count": 1,
   "id": "2960ea60-04b9-4d9d-becc-8e033aff61fb",
   "metadata": {},
   "outputs": [],
   "source": [
    "### Things to do:\n",
    "### - Add in current game situation (inning, score diff, runners on)\n",
    "### Right now rolling on a season and a month, but can exp with other time periods like 2 or 3 months, or 3, 7 games\n",
    "### - Add in num batters faced for pitcher in game or inning (also maybe a rest metric like days since last pitched if its easy)\n",
    "### Figure out why unnamed cols get added every pull and push from google cloud and stop that from happening (takes up data space)\n",
    "### I wonder if we might undercount runs due to not all errors being counted as such. We could calculate the odds of runners advancing on things like out and fly out (non3b) to stop this.\n",
    "### I wonder if we're potentially overcounting whatever the most recent play(s) for individual players are, as we roll by at bats rather than rolling at bats every game or even week. For example, if you do play x, particularly in a smaller sample, the percentage immedietly jumps and slowly lowers until it happens again. Additionally, when simulating we (should) update percentages with each at bat in game if we do this in training...\n",
    "\n",
    "\n",
    "\n",
    "# Use the below to eventually build a stealing df to help with the simulation\n",
    "# pitches[pitches.des.str.contains(\"steal\") == True].iloc[40]"
   ]
  },
  {
   "cell_type": "markdown",
   "id": "cbeafc4d",
   "metadata": {},
   "source": [
    "### Import Packages and Warnings"
   ]
  },
  {
   "cell_type": "code",
   "execution_count": 1,
   "id": "c13d2afd-0220-4a36-96a4-80e22c5e063c",
   "metadata": {},
   "outputs": [],
   "source": [
    "# Major Packages\n",
    "import sys\n",
    "\n",
    "# Modules in folder\n",
    "import constants\n",
    "from functions import *\n",
    "\n",
    "# Warnings\n",
    "warnings.simplefilter(\"ignore\")\n",
    "\n",
    "# Internal Modules Outside Current Folder\n",
    "# Change the path so that we can import the local cloud functions stored in a different directory. THE PATH IS DIFFERENT ON MAC AND PI, SO USE TRY EXCEPT FOR BOTH\n",
    "try: # for mac\n",
    "    sys.path.insert(1, '/users/jaredzirkes/Desktop/Python/GitHub')\n",
    "    from google_cloud.cloud_functions import CloudHelper\n",
    "except:\n",
    "    sys.path.insert(1, \"/home/pi/Desktop/Python\")\n",
    "    from google_cloud.cloud_functions import CloudHelper\n",
    "\n",
    "YEAR = 2016"
   ]
  },
  {
   "cell_type": "markdown",
   "id": "b4e3327f",
   "metadata": {},
   "source": [
    "### Import Prior Data"
   ]
  },
  {
   "cell_type": "code",
   "execution_count": 2,
   "id": "d86bf466-5680-46ed-8451-9f295e3e26ce",
   "metadata": {},
   "outputs": [],
   "source": [
    "# Import file of raw pitches from the given year\n",
    "all_pitches = CloudHelper().download_from_cloud(\"yearly_pitches_files/pitches_{}.pkl\".format(YEAR))\n"
   ]
  },
  {
   "cell_type": "code",
   "execution_count": 3,
   "id": "22461809",
   "metadata": {},
   "outputs": [],
   "source": [
    "z = all_pitches[all_pitches.game_type == \"R\"][500000:550000].copy()\n",
    "raw_data = z.copy()\n",
    "cleaned_data = clean_raw_pitches(raw_data)\n",
    "\n",
    "coef_dicts = build_neutralization_coefficient_dictionaries(cleaned_data)\n",
    "\n",
    "neutralized_data = neutralize_stats(cleaned_data, coef_dicts)\n",
    "\n",
    "rolled_stats = roll_neutralized_batting_stats(neutralized_data)\n",
    "\n",
    "stitched_stats = stitch_pitbat_stats(rolled_stats)\n",
    "\n",
    "final_dataset = merge_pitching_batting_leagueaverage_and_weather_datasets(stitched_stats, cleaned_data)\n",
    "\n",
    "training_dataset = make_dataset_machine_trainable(final_dataset)"
   ]
  },
  {
   "cell_type": "markdown",
   "id": "8ae0a7f9-30cf-42a2-98c5-c9491a8eb766",
   "metadata": {},
   "source": [
    "## To Do:\n",
    "- save training output with google cloud saver\n",
    "- run training script on 2016 full (and eventually 2016-19)\n",
    "- re-run algorithms\n",
    "- re-name and shape folders for github"
   ]
  },
  {
   "cell_type": "code",
   "execution_count": null,
   "id": "b30a78a5-f63d-4adf-bcad-31efe9ac1711",
   "metadata": {},
   "outputs": [],
   "source": []
  }
 ],
 "metadata": {
  "kernelspec": {
   "display_name": "Python 3 (ipykernel)",
   "language": "python",
   "name": "python3"
  },
  "language_info": {
   "codemirror_mode": {
    "name": "ipython",
    "version": 3
   },
   "file_extension": ".py",
   "mimetype": "text/x-python",
   "name": "python",
   "nbconvert_exporter": "python",
   "pygments_lexer": "ipython3",
   "version": "3.10.3"
  }
 },
 "nbformat": 4,
 "nbformat_minor": 5
}
