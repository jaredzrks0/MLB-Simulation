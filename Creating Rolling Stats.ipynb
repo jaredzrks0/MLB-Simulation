{
 "cells": [
  {
   "cell_type": "code",
   "execution_count": 19,
   "id": "4d5f12a7-726f-4710-8676-91ef45f39934",
   "metadata": {},
   "outputs": [],
   "source": [
    "import pandas as pd\n",
    "import numpy as np\n",
    "import pickle as pkl\n",
    "import random\n",
    "import time\n",
    "import pybaseball\n",
    "from pybbaseball import playerid_lookup, playerid_reverse_lookup\n",
    "import warnings\n",
    "import matplotlib.pyplot as plt\n",
    "from IPython.display import clear_output\n",
    "\n",
    "hand_combos = [\"RR\", \"RL\", \"LR\", \"LL\"]\n",
    "training_years = [\"2012\", \"2013\", \"2014\"]\n",
    "\n",
    "plays = [\"out\", \"strikeout\", \"walk\", \"single\", \"double\", \"triple\", \"home_run\"]\n",
    "\n",
    "warnings.simplefilter(\"ignore\")"
   ]
  },
  {
   "cell_type": "code",
   "execution_count": 188,
   "id": "72a3e000-b62f-40c9-a2ce-9f2be6368c56",
   "metadata": {},
   "outputs": [],
   "source": [
    "def log5 (pB, pP, pL):\n",
    "    one = (pB*pP)/pL\n",
    "    two = ((1-pB)*(1-pP))/(1-pL)\n",
    "    \n",
    "    return one/(one + two)\n",
    "\n",
    "\n",
    "def morey_z(pB, pP, pL):\n",
    "    one = (pB-pL)/np.sqrt(pL*(1-pL))\n",
    "    two = (pP-pL)/np.sqrt(pL*(1-pL))\n",
    "    three = np.sqrt(pL*(1-pL))\n",
    "    return ((one + two)/np.sqrt(2) * three) +pL\n",
    "\n",
    "\n",
    "\n",
    "def ab_play_percentages(batting_percentages, pitching_percentages, league_percentages, pitbat_combo, function):\n",
    "    ab_percentages = {}\n",
    "    \n",
    "    for play in plays:\n",
    "        batting_percent = batting_percentages[play]\n",
    "        pitching_percent = pitching_percentages[\"p_\" + play]\n",
    "        league_percent = league_percentages[pitbat_combo][play]\n",
    "        \n",
    "        if function not in [\"morey z\", \"Morey Z\", \"log5\", \"Log5\"]:\n",
    "            while funtion not in [\"morey z\", \"Morey Z\", \"log5\", \"Log5\"]:\n",
    "                function = input(\"Acceptable Functions are Morey Z and Log5. Please input one.\")\n",
    "        \n",
    "        if function == \"morey z\" or function == \"Morey Z\":\n",
    "            expected_percent = morey_z(batting_percent, pitching_percent, league_percent)\n",
    "        else:\n",
    "            expected_percent = log5(batting_percent, pitching_percent, league_percent)\n",
    "    \n",
    "        ab_percentages[play] = expected_percent\n",
    "    \n",
    "    return ab_percentages\n",
    "        "
   ]
  },
  {
   "cell_type": "code",
   "execution_count": 4,
   "id": "26fb9964-ec5c-4c33-96dc-8dacca16bb0f",
   "metadata": {},
   "outputs": [],
   "source": [
    "factored_batting_stats = pkl.load(open(\"training_batting_stats_with_factors.pkl\", \"rb\"))"
   ]
  },
  {
   "cell_type": "markdown",
   "id": "dbb6cc74-d0d4-44cd-9064-ce722a095f30",
   "metadata": {},
   "source": [
    "### Calculate League Averages For Each Play Type"
   ]
  },
  {
   "cell_type": "code",
   "execution_count": 5,
   "id": "17444d4d-7b14-44cc-8fac-77f4700c70db",
   "metadata": {},
   "outputs": [],
   "source": [
    "league_average_plays_dict = {}\n",
    "for pitbat_combo in hand_combos:\n",
    "    league_average_plays_dict[pitbat_combo] = {}\n",
    "    for play in plays:\n",
    "        df = factored_batting_stats[pitbat_combo]\n",
    "        play_share = len(df[df.play_type == play])/len(df)\n",
    "        league_average_plays_dict[pitbat_combo][play] = play_share"
   ]
  },
  {
   "cell_type": "markdown",
   "id": "c78bb38b-a72c-4efb-86f8-06eb6436ab5f",
   "metadata": {},
   "source": [
    "### Create Rolling AB Percentage Splits for Players for Each Year"
   ]
  },
  {
   "cell_type": "code",
   "execution_count": 62,
   "id": "ecb1bf67-1638-4844-acce-62da5f2c0bf1",
   "metadata": {},
   "outputs": [],
   "source": [
    "# Create a rolling percentage for each play outcome for each batter and pitcher for each year \n",
    "# rolling_factored_batting_stats = {}\n",
    "# rolling_factored_pitching_stats = {}\n",
    "\n",
    "# for pitbat_combo in hand_combos:\n",
    "#     factored_batting_stats[pitbat_combo][\"year\"] = factored_batting_stats[pitbat_combo].game_date.apply(lambda x: x.split(\"-\")[0])\n",
    "\n",
    "# for pitbat_combo in hand_combos:\n",
    "#     rolling_factored_batting_stats[pitbat_combo] = {}\n",
    "#     rolling_factored_pitching_stats[pitbat_combo] = {}\n",
    "#     for year in training_years:\n",
    "#         rolling_factored_batting_stats[pitbat_combo][year] = {}\n",
    "#         rolling_factored_pitching_stats[pitbat_combo][year] = {}\n",
    "        \n",
    "#         # Filter down to the stats for just the relevant year\n",
    "#         df = factored_batting_stats[pitbat_combo][factored_batting_stats[pitbat_combo].year == str(year)]\n",
    "        \n",
    "#         # Build rolling stats for pitchers\n",
    "#         for batter in df.batter.unique():\n",
    "#             print(\"Batter\", pitbat_combo, year, batter)\n",
    "#             clear_output(wait = True)\n",
    "            \n",
    "            \n",
    "#             batter_df = df[df.batter == batter]\n",
    "#             batter_df[\"at_bat_num\"] = 1\n",
    "            \n",
    "#             # Make a rolling count for the at bats for each batter\n",
    "#             batter_df[\"at_bat_num\"] = batter_df.at_bat_num.rolling(len(batter_df), min_periods = 1).sum()\n",
    "            \n",
    "#             for play in plays:\n",
    "#                 # Multiply the situation impact by a binary vector for play outcomes with a 1 for the correct play\n",
    "#                 batter_df[play] = batter_df.apply(lambda x: 1*x.play_value if x.play_type==play else 0, axis = 1)\n",
    "#                 batter_df[play] = batter_df[play].rolling(len(batter_df), min_periods = 1).sum()\n",
    "#                 batter_df[play] = batter_df[play]/batter_df.at_bat_num\n",
    "#                 batter_df[\"pitbat\"] = pitbat_combo\n",
    "#\n",
    "#             rolling_factored_batting_stats[pitbat_combo][year][batter] = batter_df[[\"game_pk\", \"game_date\", \"batter\", \"pitcher\", \"at_bat_num\", \"out\", \"strikeout\", \"walk\", \"single\", \"double\", \"triple\", \"home_run\"]]\n",
    "            \n",
    "#             # Repercentage factored batting stats to sum to 1\n",
    "#             rolling_factored_batting_stats[pitbat_combo][year][batter][plays] = rolling_factored_batting_stats[pitbat_combo][year][batter].apply(lambda x: pd.Series([x[plays][p]/x[plays].sum() for p in plays]), axis=1)\n",
    "        \n",
    "#         # Build the rolling stats for pitchers\n",
    "#         for pitcher in df.pitcher.unique():\n",
    "#             print(\"Pitcher\", pitbat_combo, year, batter)\n",
    "#             clear_output(wait = True)\n",
    "            \n",
    "            \n",
    "#             pitcher_df = df[df.pitcher == pitcher]\n",
    "#             pitcher_df[\"at_bat_num\"] = 1\n",
    "            \n",
    "#             pitcher_df[\"at_bat_num\"] = pitcher_df.at_bat_num.rolling(len(pitcher_df), min_periods = 1).sum()\n",
    "#             for play in plays:\n",
    "#                 # Multiply the situation impact by a binary vector for play outcomes with a 1 for the correct play\n",
    "#                 pitcher_df[play] = pitcher_df.apply(lambda x: 1*x.play_value if x.play_type==play else 0, axis = 1)\n",
    "#                 pitcher_df[play] = pitcher_df[play].rolling(len(pitcher_df), min_periods = 1).sum()\n",
    "#                 pitcher_df[play] = pitcher_df[play]/pitcher_df.at_bat_num\n",
    "#                 pitcher_df[\"pitbat\"] = pitbat_combo\n",
    "\n",
    "#             rolling_factored_pitching_stats[pitbat_combo][year][pitcher] = pitcher_df[[\"game_pk\", \"game_date\", \"batter\", \"pitcher\", \"at_bat_num\", \"out\", \"strikeout\", \"walk\", \"single\", \"double\", \"triple\", \"home_run\"]]\n",
    "#             rolling_factored_pitching_stats[pitbat_combo][year][pitcher][plays] = rolling_factored_pitching_stats[pitbat_combo][year][pitcher].apply(lambda x: pd.Series([x[plays][p]/x[plays].sum() for p in plays]), axis=1)"
   ]
  },
  {
   "cell_type": "code",
   "execution_count": 14,
   "id": "34b78613-d323-447e-802f-aa93cc314f58",
   "metadata": {},
   "outputs": [],
   "source": [
    "# pkl.dump(rolling_factored_pitching_stats, open(\"rolling_factored_pitching_stats.pkl\",\"wb\"))\n",
    "# pkl.dump(rolling_factored_batting_stats, open(\"rolling_factored_batting_stats.pkl\",\"wb\"))\n",
    "\n",
    "rolling_factored_pitching_stats = pkl.load(open(\"rolling_factored_pitching_stats.pkl\",\"rb\"))\n",
    "rolling_factored_batting_stats = pkl.load(open(\"rolling_factored_batting_stats.pkl\",\"rb\"))"
   ]
  },
  {
   "cell_type": "code",
   "execution_count": 84,
   "id": "ce8fbe8e-5a43-44eb-bc98-5e0ce481581d",
   "metadata": {},
   "outputs": [],
   "source": [
    "# for pitbat_combo in hand_combos:\n",
    "#     for year in training_years:\n",
    "#         for batter in rolling_factored_batting_stats[pitbat_combo][year]:\n",
    "#             clear_output(wait = True)\n",
    "#             df = rolling_factored_batting_stats[pitbat_combo][year][batter]\n",
    "#             df[\"pitcher\"] = df.apply(lambda x: factored_batting_stats[pitbat_combo].loc[x.name].pitcher, axis = 1)\n",
    "\n",
    "# for pitbat_combo in hand_combos:\n",
    "#     for year in training_years:\n",
    "#         for batter in rolling_factored_batting_stats[pitbat_combo][year]:\n",
    "#             rolling_factored_batting_stats[pitbat_combo][year][batter][\"pitbat\"] = pitbat_combo\n",
    "#         for pitcher in rolling_factored_pitching_stats[pitbat_combo][year]:\n",
    "#             rolling_factored_pitching_stats[pitbat_combo][year][pitcher][\"pitbat\"] = pitbat_combo\n",
    "            \n"
   ]
  },
  {
   "cell_type": "code",
   "execution_count": 142,
   "id": "4c48bfe8-5e2c-4fe8-b0b3-6c5b5b31323a",
   "metadata": {},
   "outputs": [],
   "source": [
    "# Pull all the DFs out of the dictionary and into a large DF that will be used for final training\n",
    "\n",
    "training_stats = pd.DataFrame()\n",
    "pitching_holder = pd.DataFrame()\n",
    "\n",
    "for pitbat_combo in hand_combos:\n",
    "    print(pitbat_combo)\n",
    "    for year in training_years:\n",
    "        clear_output(wait = True)\n",
    "        for batter in rolling_factored_batting_stats[pitbat_combo][year]:\n",
    "            df_b = rolling_factored_batting_stats[pitbat_combo][year][batter]\n",
    "            #if len(df_b) > 35:\n",
    "            training_stats = training_stats.append(df_b) \n",
    "\n",
    "        \n",
    "        for pitcher in rolling_factored_pitching_stats[pitbat_combo][year]:\n",
    "            clear_output(wait = True)\n",
    "            df_p = rolling_factored_pitching_stats[pitbat_combo][year][pitcher]\n",
    "            pitching_holder = pitching_holder.append(df_p) \n",
    "                \n",
    "                \n",
    "                \n",
    "    clear_output(wait=False)\n",
    "    \n",
    "training_stats[\"year\"] = training_stats.game_date.apply(lambda x: x.split(\"-\")[0])\n",
    "pitching_holder[\"year\"] = pitching_holder.game_date.apply(lambda x: x.split(\"-\")[0])\n",
    "\n",
    "pitching_holder = pitching_holder.rename(columns = {\"batter\":'pitcher'})"
   ]
  },
  {
   "cell_type": "code",
   "execution_count": 168,
   "id": "c15a2531-e1ad-4b7f-be17-609aab99d4a8",
   "metadata": {},
   "outputs": [],
   "source": [
    "for play in plays:\n",
    "    print(play)\n",
    "    training_stats[\"p_\" + play] = training_stats.apply(lambda x: rolling_factored_pitching_stats[x.pitbat][x.year][x.pitcher][rolling_factored_pitching_stats[x.pitbat][x.year][x.pitcher].game_date < x.game_date].iloc[-1][play] if len(rolling_factored_pitching_stats[x.pitbat][x.year][x.pitcher][rolling_factored_pitching_stats[x.pitbat][x.year][x.pitcher].game_date < x.game_date])>0 else None, axis = 1)\n",
    "    clear_output(wait=False)"
   ]
  },
  {
   "cell_type": "markdown",
   "id": "a18d989d-760f-4d38-8da3-0cfd95ff74d4",
   "metadata": {},
   "source": [
    "we have the pitching stats as the pitching stats from the end of yesterdays game, but we need to do the same for batting stats"
   ]
  },
  {
   "cell_type": "code",
   "execution_count": 178,
   "id": "bf52786b-ca72-4b05-92d2-f86e567f023e",
   "metadata": {},
   "outputs": [],
   "source": [
    "training_stats[\"play\"] = training_stats.apply(lambda x: factored_batting_stats[x.pitbat].loc[x.name].play_type, axis=1)"
   ]
  },
  {
   "cell_type": "code",
   "execution_count": 201,
   "id": "beadfdbf-f7f2-4b14-8a84-d143898d0860",
   "metadata": {},
   "outputs": [],
   "source": [
    "training_stats[\"prediction\"] = training_stats.apply(lambda x: ab_play_percentages(x[plays], x[[\"p_\" + play for play in plays]], league_average_plays_dict, x.pitbat, \"morey z\"), axis = 1)"
   ]
  },
  {
   "cell_type": "code",
   "execution_count": 203,
   "id": "e0e8f655-33e0-4293-9694-fec6c0f81f22",
   "metadata": {},
   "outputs": [],
   "source": [
    "for play in plays:\n",
    "    training_stats[\"f_\"+play] = training_stats.prediction.apply(lambda x: x[play])"
   ]
  },
  {
   "cell_type": "code",
   "execution_count": 220,
   "id": "db377284-01e3-478e-973e-dfe05a2543f2",
   "metadata": {},
   "outputs": [
    {
     "data": {
      "text/plain": [
       "0.0881061847960437"
      ]
     },
     "execution_count": 220,
     "metadata": {},
     "output_type": "execute_result"
    }
   ],
   "source": [
    "training_stats.f_walk.mean()"
   ]
  },
  {
   "cell_type": "code",
   "execution_count": 221,
   "id": "c057b578-d2df-4350-8b2d-2807e81e7224",
   "metadata": {},
   "outputs": [
    {
     "data": {
      "text/plain": [
       "0.10500879067914749"
      ]
     },
     "execution_count": 221,
     "metadata": {},
     "output_type": "execute_result"
    }
   ],
   "source": [
    "training_stats[training_stats.play == \"walk\"].f_walk.mean()"
   ]
  },
  {
   "cell_type": "code",
   "execution_count": 222,
   "id": "b6f5f41a-f9bc-49cc-957f-6f7e5ded3357",
   "metadata": {},
   "outputs": [],
   "source": [
    "x =1"
   ]
  },
  {
   "cell_type": "code",
   "execution_count": null,
   "id": "87eae6e7-bab6-4e12-b050-da020d0332c1",
   "metadata": {},
   "outputs": [],
   "source": []
  }
 ],
 "metadata": {
  "kernelspec": {
   "display_name": "Python 3 (ipykernel)",
   "language": "python",
   "name": "python3"
  },
  "language_info": {
   "codemirror_mode": {
    "name": "ipython",
    "version": 3
   },
   "file_extension": ".py",
   "mimetype": "text/x-python",
   "name": "python",
   "nbconvert_exporter": "python",
   "pygments_lexer": "ipython3",
   "version": "3.10.3"
  }
 },
 "nbformat": 4,
 "nbformat_minor": 5
}
