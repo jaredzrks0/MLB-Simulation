{
 "cells": [
  {
   "cell_type": "code",
   "execution_count": 1,
   "id": "9514b112-9967-46a4-9f70-9263b656286e",
   "metadata": {},
   "outputs": [],
   "source": [
    "import pandas as pd\n",
    "from baseball_scraper import statcast\n",
    "import datetime\n",
    "from datetime import datetime as dt\n",
    "import warnings\n",
    "from IPython.display import clear_output\n",
    "import pickle as pkl\n",
    "import feather\n",
    "from bs4 import BeautifulSoup as bs\n",
    "from bs4 import Comment\n",
    "import requests\n",
    "import time\n",
    "import numpy as np\n",
    "import re\n",
    "import pydrive\n",
    "\n",
    "\n",
    "warnings.simplefilter(\"ignore\")\n",
    "%run Pitch_and_Weather_Collection_Functions.ipynb"
   ]
  },
  {
   "cell_type": "code",
   "execution_count": 2,
   "id": "1dd9d9c7-7d0b-433a-bb9d-1e1f8df98a41",
   "metadata": {},
   "outputs": [
    {
     "name": "stdout",
     "output_type": "stream",
     "text": [
      "The Pitches File from 2024-05-15 is not in the Cloud Bucket. No Files Have Been Deleted.\n"
     ]
    }
   ],
   "source": [
    "update_pitch_files()\n",
    "update_daily_mlb_weather()\n",
    "\n",
    "if dt.today().day == 1 and dt.today().month in [7,10]:\n",
    "    update_prior_mlb_weather_data([str(dt.today().year)])"
   ]
  },
  {
   "cell_type": "code",
   "execution_count": null,
   "id": "3a1c5bef-8f5b-4dd7-9488-91c7edd809a3",
   "metadata": {},
   "outputs": [],
   "source": []
  }
 ],
 "metadata": {
  "kernelspec": {
   "display_name": "Python 3 (ipykernel)",
   "language": "python",
   "name": "python3"
  },
  "language_info": {
   "codemirror_mode": {
    "name": "ipython",
    "version": 3
   },
   "file_extension": ".py",
   "mimetype": "text/x-python",
   "name": "python",
   "nbconvert_exporter": "python",
   "pygments_lexer": "ipython3",
   "version": "3.10.3"
  }
 },
 "nbformat": 4,
 "nbformat_minor": 5
}
